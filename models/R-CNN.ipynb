{
 "cells": [
  {
   "cell_type": "markdown",
   "id": "95491f3b-73e9-48b7-840f-253f72ea1ec1",
   "metadata": {},
   "source": [
    "# R-CNN"
   ]
  },
  {
   "cell_type": "code",
   "execution_count": 52,
   "id": "3d7623d9-6f01-47b4-af92-8d4a162dd76d",
   "metadata": {},
   "outputs": [],
   "source": [
    "import pandas as pd\n",
    "import json\n",
    "import numpy as np\n",
    "import os\n",
    "import torch \n",
    "\n",
    "ann_dir = '../annotation/annotations/panoptic_val2017.json'\n",
    "root_dir = '../data/val2017/'\n",
    "\n",
    "\n",
    "os.environ[\"CUDA_DEVICE_ORDER\"]=\"PCI_BUS_ID\"\n",
    "os.environ[\"CUDA_VISIBLE_DEVICES\"] = '2'"
   ]
  },
  {
   "cell_type": "code",
   "execution_count": 53,
   "id": "908555d9-e152-4bf4-9761-05aa604d0b43",
   "metadata": {},
   "outputs": [],
   "source": [
    "def get_items(ann_dir):\n",
    "    with open(ann_dir, 'r') as f:\n",
    "        temp = json.load(f)\n",
    "    image_list = []\n",
    "    ctg_df = pd.DataFrame(temp['categories'])\n",
    "    id2ctg = dict(ctg_df.set_index('id')['name'])\n",
    "    ctg2id = dict(ctg_df.set_index('name')['id'])\n",
    "    for a in temp['annotations']:\n",
    "        image_id = a['file_name'][:-4]\n",
    "        \n",
    "        bbox = np.stack([i['bbox'] for i in a['segments_info']])\n",
    "        labels = np.asarray([i['category_id'] for i in a['segments_info']])\n",
    "        image_list.append({'image_id': image_id,\n",
    "                           'bbox': bbox,\n",
    "                           'labels': labels})\n",
    "    return np.asanyarray(image_list), id2ctg"
   ]
  },
  {
   "cell_type": "code",
   "execution_count": 54,
   "id": "7e2b5a27-d9eb-4471-9c15-12e1dd4175a2",
   "metadata": {},
   "outputs": [],
   "source": [
    "image_list, id2ctg = get_items(ann_dir)"
   ]
  },
  {
   "cell_type": "code",
   "execution_count": 55,
   "id": "958ed61a-d2b8-4fe6-8880-d15f96861729",
   "metadata": {},
   "outputs": [],
   "source": [
    "from random import sample\n",
    "def get_tv_indx(tl, k=0.8):\n",
    "    total_idx = range(tl)\n",
    "    train_idx = sample(total_idx, int(tl * k))\n",
    "    valid_idx = set(total_idx) - set(train_idx)\n",
    "    return train_idx, list(valid_idx)"
   ]
  },
  {
   "cell_type": "code",
   "execution_count": 56,
   "id": "3cf2a191-f09b-4e50-bb20-bec9ad77baf9",
   "metadata": {},
   "outputs": [],
   "source": [
    "train_idx, valid_idx = get_tv_indx((len(image_list)))\n",
    "train_list = image_list[train_idx]\n",
    "valid_list = image_list[valid_idx]"
   ]
  },
  {
   "cell_type": "code",
   "execution_count": 57,
   "id": "7bd5cdbe-2e73-4b12-9b03-d7f6be34ebf6",
   "metadata": {},
   "outputs": [],
   "source": [
    "def get_iou(box1, box2):\n",
    "    # box = (x1, y1, x2, y2)\n",
    "    box1_area = (box1[2] - box1[0] + 1) * (box1[3] - box1[1] + 1)\n",
    "    box2_area = (box2[2] - box2[0] + 1) * (box2[3] - box2[1] + 1)\n",
    "\n",
    "    # obtain x1, y1, x2, y2 of the intersection\n",
    "    x1 = max(box1[0], box2[0])\n",
    "    y1 = max(box1[1], box2[1])\n",
    "    x2 = min(box1[2], box2[2])\n",
    "    y2 = min(box1[3], box2[3])\n",
    "\n",
    "    # compute the width and height of the intersection\n",
    "    w = max(0, x2 - x1 + 1)\n",
    "    h = max(0, y2 - y1 + 1)\n",
    "\n",
    "    inter = w * h\n",
    "    iou = inter / (box1_area + box2_area - inter)\n",
    "    return iou"
   ]
  },
  {
   "cell_type": "code",
   "execution_count": 58,
   "id": "c42ba7b6-74a3-4b6f-bfcf-a3915ff7d3ee",
   "metadata": {},
   "outputs": [],
   "source": [
    "import cv2\n",
    "from matplotlib import pyplot as plt\n",
    "ss = cv2.ximgproc.segmentation.createSelectiveSearchSegmentation()\n",
    "\n",
    "def SelectiveSearch(t, root_dir):\n",
    "    train_images = []\n",
    "    train_labels = []\n",
    "    \n",
    "    img_id = t['image_id']\n",
    "    img = cv2.imread(f'{root_dir}{img_id}.jpg')\n",
    "    \n",
    "    ss.setBaseImage(img)\n",
    "    ss.switchToSelectiveSearchFast()\n",
    "    ssresults = ss.process()\n",
    "    \n",
    "    imout = img.copy()\n",
    "    counter = 0 \n",
    "    falsecounter = 0\n",
    "    flag = 0\n",
    "    fflag = 0\n",
    "    bflag = 0\n",
    "    boxes = t['bbox']\n",
    "    boxes[:, 2] = boxes[:, 0] + boxes[:, 2]\n",
    "    boxes[:, 3] = boxes[:, 1] + boxes[:, 3]\n",
    "    for idx, result in enumerate(ssresults):\n",
    "        if idx < 2000 and flag == 0:\n",
    "            for i, gtval in enumerate(boxes):    # ground truth\n",
    "                x, y, w, h = result\n",
    "                iou = get_iou(gtval, [x, y, x+w, y+h])\n",
    "                if counter < 30:\n",
    "                    if iou > 0.70 :\n",
    "                        timage = imout[y:y+h, x:x+w]\n",
    "                        resized = cv2.resize(timage, (224,224), interpolation = cv2.INTER_AREA)\n",
    "                        train_images.append(resized)\n",
    "                        train_labels.append(t['labels'][i])\n",
    "                        counter += 1\n",
    "                else:\n",
    "                    fflag = 1\n",
    "                if falsecounter < 30:\n",
    "                    if iou < 0.3:\n",
    "                        timage = imout[y:y+h, x:x+w]\n",
    "                        resized = cv2.resize(timage, (224,224), interpolation = cv2.INTER_AREA)\n",
    "                        train_images.append(resized)\n",
    "                        train_labels.append(0)\n",
    "                        falsecounter += 1\n",
    "                else:\n",
    "                    bflag = 1\n",
    "            if fflag == 1 and bflag ==1:\n",
    "                flag = 1\n",
    "                \n",
    "    return np.array(train_images, dtype=np.uint8), np.array(train_labels, dtype=np.int_)"
   ]
  },
  {
   "cell_type": "code",
   "execution_count": 59,
   "id": "d379fcbb-da3f-4025-b4bc-ce6ef07a72e6",
   "metadata": {},
   "outputs": [
    {
     "data": {
      "text/plain": [
       "AlexNet(\n",
       "  (features): Sequential(\n",
       "    (0): Conv2d(3, 64, kernel_size=(11, 11), stride=(4, 4), padding=(2, 2))\n",
       "    (1): ReLU(inplace=True)\n",
       "    (2): MaxPool2d(kernel_size=3, stride=2, padding=0, dilation=1, ceil_mode=False)\n",
       "    (3): Conv2d(64, 192, kernel_size=(5, 5), stride=(1, 1), padding=(2, 2))\n",
       "    (4): ReLU(inplace=True)\n",
       "    (5): MaxPool2d(kernel_size=3, stride=2, padding=0, dilation=1, ceil_mode=False)\n",
       "    (6): Conv2d(192, 384, kernel_size=(3, 3), stride=(1, 1), padding=(1, 1))\n",
       "    (7): ReLU(inplace=True)\n",
       "    (8): Conv2d(384, 256, kernel_size=(3, 3), stride=(1, 1), padding=(1, 1))\n",
       "    (9): ReLU(inplace=True)\n",
       "    (10): Conv2d(256, 256, kernel_size=(3, 3), stride=(1, 1), padding=(1, 1))\n",
       "    (11): ReLU(inplace=True)\n",
       "    (12): MaxPool2d(kernel_size=3, stride=2, padding=0, dilation=1, ceil_mode=False)\n",
       "  )\n",
       "  (avgpool): AdaptiveAvgPool2d(output_size=(6, 6))\n",
       "  (classifier): Sequential(\n",
       "    (0): Linear(in_features=9216, out_features=4096, bias=True)\n",
       "    (1): Linear(in_features=4096, out_features=134, bias=True)\n",
       "  )\n",
       ")"
      ]
     },
     "execution_count": 59,
     "metadata": {},
     "output_type": "execute_result"
    }
   ],
   "source": [
    "from torchvision import models\n",
    "from torch import nn\n",
    "\n",
    "model = models.alexnet()\n",
    "\n",
    "for param in model.parameters():\n",
    "    param.requires_grad = False\n",
    "    \n",
    "model.classifier = nn.Sequential(nn.Linear(9216, 4096),\n",
    "                                 nn.Linear(4096, len(id2ctg) + 1))\n",
    "\n",
    "\n",
    "model.cuda()"
   ]
  },
  {
   "cell_type": "code",
   "execution_count": 60,
   "id": "e073c0ef-247e-48d6-844a-a4b696178ea5",
   "metadata": {},
   "outputs": [],
   "source": [
    "from torch import optim\n",
    "\n",
    "criterion = nn.CrossEntropyLoss().cuda()\n",
    "optimizer = optim.SGD(model.parameters(), lr=0.01, momentum=0.9, weight_decay=0.0005)"
   ]
  },
  {
   "cell_type": "code",
   "execution_count": 61,
   "id": "16f75d33-88e3-47cc-b363-ae33c8468920",
   "metadata": {},
   "outputs": [],
   "source": [
    "from torchvision import transforms\n",
    "train_transform = transforms.Compose([transforms.ToTensor(),\n",
    "                                      transforms.RandomVerticalFlip(p=0.5),\n",
    "                                      transforms.RandomHorizontalFlip(p=0.5)])"
   ]
  },
  {
   "cell_type": "code",
   "execution_count": 62,
   "id": "a49c905c-6a6d-49a7-9ae6-98b564c1ba2a",
   "metadata": {},
   "outputs": [
    {
     "data": {
      "application/vnd.jupyter.widget-view+json": {
       "model_id": "f2c1589d2092473faac66419bc224345",
       "version_major": 2,
       "version_minor": 0
      },
      "text/plain": [
       "  0%|          | 0/4000 [00:00<?, ?it/s]"
      ]
     },
     "metadata": {},
     "output_type": "display_data"
    },
    {
     "ename": "RuntimeError",
     "evalue": "cuda runtime error (710) : device-side assert triggered at /pytorch/aten/src/THC/generic/THCTensorMath.cu:29",
     "output_type": "error",
     "traceback": [
      "\u001b[0;31m---------------------------------------------------------------------------\u001b[0m",
      "\u001b[0;31mRuntimeError\u001b[0m                              Traceback (most recent call last)",
      "\u001b[0;32m<ipython-input-62-3cf98ef78344>\u001b[0m in \u001b[0;36m<module>\u001b[0;34m\u001b[0m\n\u001b[1;32m     11\u001b[0m     \u001b[0moutputs\u001b[0m \u001b[0;34m=\u001b[0m \u001b[0mmodel\u001b[0m\u001b[0;34m(\u001b[0m\u001b[0minputs\u001b[0m\u001b[0;34m)\u001b[0m\u001b[0;34m\u001b[0m\u001b[0;34m\u001b[0m\u001b[0m\n\u001b[1;32m     12\u001b[0m     \u001b[0mloss\u001b[0m \u001b[0;34m=\u001b[0m \u001b[0mcriterion\u001b[0m\u001b[0;34m(\u001b[0m\u001b[0moutputs\u001b[0m\u001b[0;34m,\u001b[0m \u001b[0mlabels\u001b[0m\u001b[0;34m)\u001b[0m\u001b[0;34m\u001b[0m\u001b[0;34m\u001b[0m\u001b[0m\n\u001b[0;32m---> 13\u001b[0;31m     \u001b[0mloss\u001b[0m\u001b[0;34m.\u001b[0m\u001b[0mbackward\u001b[0m\u001b[0;34m(\u001b[0m\u001b[0;34m)\u001b[0m\u001b[0;34m\u001b[0m\u001b[0;34m\u001b[0m\u001b[0m\n\u001b[0m\u001b[1;32m     14\u001b[0m     \u001b[0moptimizer\u001b[0m\u001b[0;34m.\u001b[0m\u001b[0mstep\u001b[0m\u001b[0;34m(\u001b[0m\u001b[0;34m)\u001b[0m\u001b[0;34m\u001b[0m\u001b[0;34m\u001b[0m\u001b[0m\n\u001b[1;32m     15\u001b[0m \u001b[0;34m\u001b[0m\u001b[0m\n",
      "\u001b[0;32m~/.local/lib/python3.6/site-packages/torch/tensor.py\u001b[0m in \u001b[0;36mbackward\u001b[0;34m(self, gradient, retain_graph, create_graph)\u001b[0m\n\u001b[1;32m    183\u001b[0m                 \u001b[0mproducts\u001b[0m\u001b[0;34m.\u001b[0m \u001b[0mDefaults\u001b[0m \u001b[0mto\u001b[0m\u001b[0;31m \u001b[0m\u001b[0;31m`\u001b[0m\u001b[0;31m`\u001b[0m\u001b[0;32mFalse\u001b[0m\u001b[0;31m`\u001b[0m\u001b[0;31m`\u001b[0m\u001b[0;34m.\u001b[0m\u001b[0;34m\u001b[0m\u001b[0;34m\u001b[0m\u001b[0m\n\u001b[1;32m    184\u001b[0m         \"\"\"\n\u001b[0;32m--> 185\u001b[0;31m         \u001b[0mtorch\u001b[0m\u001b[0;34m.\u001b[0m\u001b[0mautograd\u001b[0m\u001b[0;34m.\u001b[0m\u001b[0mbackward\u001b[0m\u001b[0;34m(\u001b[0m\u001b[0mself\u001b[0m\u001b[0;34m,\u001b[0m \u001b[0mgradient\u001b[0m\u001b[0;34m,\u001b[0m \u001b[0mretain_graph\u001b[0m\u001b[0;34m,\u001b[0m \u001b[0mcreate_graph\u001b[0m\u001b[0;34m)\u001b[0m\u001b[0;34m\u001b[0m\u001b[0;34m\u001b[0m\u001b[0m\n\u001b[0m\u001b[1;32m    186\u001b[0m \u001b[0;34m\u001b[0m\u001b[0m\n\u001b[1;32m    187\u001b[0m     \u001b[0;32mdef\u001b[0m \u001b[0mregister_hook\u001b[0m\u001b[0;34m(\u001b[0m\u001b[0mself\u001b[0m\u001b[0;34m,\u001b[0m \u001b[0mhook\u001b[0m\u001b[0;34m)\u001b[0m\u001b[0;34m:\u001b[0m\u001b[0;34m\u001b[0m\u001b[0;34m\u001b[0m\u001b[0m\n",
      "\u001b[0;32m~/.local/lib/python3.6/site-packages/torch/autograd/__init__.py\u001b[0m in \u001b[0;36mbackward\u001b[0;34m(tensors, grad_tensors, retain_graph, create_graph, grad_variables)\u001b[0m\n\u001b[1;32m    125\u001b[0m     Variable._execution_engine.run_backward(\n\u001b[1;32m    126\u001b[0m         \u001b[0mtensors\u001b[0m\u001b[0;34m,\u001b[0m \u001b[0mgrad_tensors\u001b[0m\u001b[0;34m,\u001b[0m \u001b[0mretain_graph\u001b[0m\u001b[0;34m,\u001b[0m \u001b[0mcreate_graph\u001b[0m\u001b[0;34m,\u001b[0m\u001b[0;34m\u001b[0m\u001b[0;34m\u001b[0m\u001b[0m\n\u001b[0;32m--> 127\u001b[0;31m         allow_unreachable=True)  # allow_unreachable flag\n\u001b[0m\u001b[1;32m    128\u001b[0m \u001b[0;34m\u001b[0m\u001b[0m\n\u001b[1;32m    129\u001b[0m \u001b[0;34m\u001b[0m\u001b[0m\n",
      "\u001b[0;31mRuntimeError\u001b[0m: cuda runtime error (710) : device-side assert triggered at /pytorch/aten/src/THC/generic/THCTensorMath.cu:29"
     ]
    }
   ],
   "source": [
    "from tqdm.notebook import tqdm\n",
    "total_loss = 0.0\n",
    "tk0 = tqdm(train_list, total=len(train_list), leave=False)\n",
    "\n",
    "for idx, t in enumerate(tk0, start=1):\n",
    "    image_data, label_data = SelectiveSearch(t, root_dir)\n",
    "    inputs = torch.cat(tuple(train_transform(id).cuda().reshape(-1, 3, 224, 224) for id in image_data))\n",
    "    labels = torch.Tensor(label_data).cuda()\n",
    "    labels = labels.type(torch.long)\n",
    "\n",
    "    outputs = model(inputs)\n",
    "    loss = criterion(outputs, labels)\n",
    "    loss.backward()\n",
    "    optimizer.step()\n",
    "\n",
    "    total_loss += loss.item()\n",
    "    tk0.set_description(f'Step: {idx}. loss: {loss.item():.3f}. Mean loss: {total_loss / idx:.3f}')"
   ]
  },
  {
   "cell_type": "code",
   "execution_count": null,
   "id": "6f80cb78-7c66-40a5-8529-55ea44c4f755",
   "metadata": {},
   "outputs": [],
   "source": [
    "  \n",
    "    \n",
    "    "
   ]
  },
  {
   "cell_type": "code",
   "execution_count": null,
   "id": "062a33b3-b3b8-4347-a090-0966c9833174",
   "metadata": {},
   "outputs": [],
   "source": []
  },
  {
   "cell_type": "code",
   "execution_count": null,
   "id": "afa5848f-7010-4a81-91ed-debdee13d13f",
   "metadata": {},
   "outputs": [],
   "source": []
  },
  {
   "cell_type": "code",
   "execution_count": null,
   "id": "3ccc8cec-fcbf-4e28-a943-ffe65e5fdf7c",
   "metadata": {},
   "outputs": [],
   "source": []
  }
 ],
 "metadata": {
  "kernelspec": {
   "display_name": "Python 3",
   "language": "python",
   "name": "python3"
  },
  "language_info": {
   "codemirror_mode": {
    "name": "ipython",
    "version": 3
   },
   "file_extension": ".py",
   "mimetype": "text/x-python",
   "name": "python",
   "nbconvert_exporter": "python",
   "pygments_lexer": "ipython3",
   "version": "3.6.9"
  }
 },
 "nbformat": 4,
 "nbformat_minor": 5
}
