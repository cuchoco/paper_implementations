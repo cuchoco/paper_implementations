{
 "cells": [
  {
   "cell_type": "markdown",
   "id": "95491f3b-73e9-48b7-840f-253f72ea1ec1",
   "metadata": {},
   "source": [
    "# R-CNN"
   ]
  },
  {
   "cell_type": "code",
   "execution_count": 1,
   "id": "3d7623d9-6f01-47b4-af92-8d4a162dd76d",
   "metadata": {},
   "outputs": [],
   "source": [
    "import pandas as pd\n",
    "import json\n",
    "import numpy as np\n",
    "import os\n",
    "import torch \n",
    "\n",
    "ann_dir = '../annotation/annotations/panoptic_val2017.json'\n",
    "root_dir = '../data/val2017/'\n",
    "\n",
    "\n",
    "os.environ[\"CUDA_DEVICE_ORDER\"]=\"PCI_BUS_ID\"\n",
    "os.environ[\"CUDA_VISIBLE_DEVICES\"] = '2'"
   ]
  },
  {
   "cell_type": "code",
   "execution_count": 48,
   "id": "908555d9-e152-4bf4-9761-05aa604d0b43",
   "metadata": {},
   "outputs": [],
   "source": [
    "def get_items(ann_dir):\n",
    "    with open(ann_dir, 'r') as f:\n",
    "        temp = json.load(f)\n",
    "    image_list = []\n",
    "    ctg_df = pd.DataFrame(temp['categories'])\n",
    "    id2ctg = dict(ctg_df.set_index('id')['name'])\n",
    "    ctg2id = dict(ctg_df.set_index('name')['id'])\n",
    "    for a in temp['annotations']:\n",
    "        image_id = a['file_name'][:-4]\n",
    "        \n",
    "        bbox = np.stack([i['bbox'] for i in a['segments_info']])\n",
    "        labels = np.asarray([i['category_id'] for i in a['segments_info']])\n",
    "        image_list.append({'image_id': image_id,\n",
    "                           'bbox': bbox,\n",
    "                           'labels': labels})\n",
    "    return np.asanyarray(image_list), id2ctg"
   ]
  },
  {
   "cell_type": "code",
   "execution_count": 49,
   "id": "7e2b5a27-d9eb-4471-9c15-12e1dd4175a2",
   "metadata": {},
   "outputs": [],
   "source": [
    "image_list, id2ctg = get_items(ann_dir)"
   ]
  },
  {
   "cell_type": "code",
   "execution_count": 6,
   "id": "958ed61a-d2b8-4fe6-8880-d15f96861729",
   "metadata": {},
   "outputs": [],
   "source": [
    "from random import sample\n",
    "def get_tv_indx(tl, k=0.8):\n",
    "    total_idx = range(tl)\n",
    "    train_idx = sample(total_idx, int(tl * k))\n",
    "    valid_idx = set(total_idx) - set(train_idx)\n",
    "    return train_idx, list(valid_idx)"
   ]
  },
  {
   "cell_type": "code",
   "execution_count": 7,
   "id": "3cf2a191-f09b-4e50-bb20-bec9ad77baf9",
   "metadata": {},
   "outputs": [],
   "source": [
    "train_idx, valid_idx = get_tv_indx((len(image_list)))\n",
    "train_list = image_list[train_idx]\n",
    "valid_list = image_list[valid_idx]"
   ]
  },
  {
   "cell_type": "code",
   "execution_count": 8,
   "id": "7bd5cdbe-2e73-4b12-9b03-d7f6be34ebf6",
   "metadata": {},
   "outputs": [],
   "source": [
    "def get_iou(bb1, bb2):\n",
    "    assert bb1[0] < bb1[2]\n",
    "    assert bb1[1] < bb1[3]\n",
    "    assert bb2['x1'] < bb2['x2']\n",
    "    assert bb2['y1'] < bb2['y2']\n",
    "    x_left = max(bb1[0], bb2['x1'])\n",
    "    y_top = max(bb1[2], bb2['y1'])\n",
    "    x_right = min(bb1[1], bb2['x2'])\n",
    "    y_bottom = min(bb1[3], bb2['y2'])\n",
    "    if x_right < x_left or y_bottom < y_top:\n",
    "        return 0.0\n",
    "    \n",
    "    intersection_area = (x_right - x_left) * (y_bottom - y_top)\n",
    "    bb1_area = (bb1[1] - bb1[0]) * (bb1[3] - bb1[2])\n",
    "    bb2_area = (bb2['x2'] - bb2['x1']) * (bb2['y2'] - bb2['y1'])\n",
    "    iou = intersection_area / float(bb1_area + bb2_area - intersection_area)\n",
    "    assert iou >= 0.0\n",
    "    assert iou <= 1.0\n",
    "    return iou"
   ]
  },
  {
   "cell_type": "code",
   "execution_count": 9,
   "id": "c42ba7b6-74a3-4b6f-bfcf-a3915ff7d3ee",
   "metadata": {},
   "outputs": [],
   "source": [
    "import cv2\n",
    "from matplotlib import pyplot as plt\n",
    "ss = cv2.ximgproc.segmentation.createSelectiveSearchSegmentation()\n",
    "\n",
    "def SelectiveSearch(t, root_dir):\n",
    "    train_images = []\n",
    "    train_labels = []\n",
    "    \n",
    "    img_id = t['image_id']\n",
    "    img = cv2.imread(f'{root_dir}{img_id}.jpg')\n",
    "    \n",
    "    ss.setBaseImage(img)\n",
    "    ss.switchToSelectiveSearchFast()\n",
    "    ssresults = ss.process()\n",
    "    \n",
    "    imout = img.copy()\n",
    "    counter = 0 \n",
    "    falsecounter = 0\n",
    "    flag = 0\n",
    "    fflag = 0\n",
    "    bflag = 0\n",
    "    boxes = t['bbox']\n",
    "    boxes[:, 2] = boxes[:, 0] + boxes[:, 2]\n",
    "    boxes[:, 3] = boxes[:, 1] + boxes[:, 3]\n",
    "    for idx, result in enumerate(ssresults):\n",
    "        if idx < 2000 and flag == 0:\n",
    "            for i, gtval in enumerate(boxes):    # ground truth\n",
    "                x, y, w, h = result\n",
    "                iou = get_iou(gtval, {'x1': x, 'x2': x+w, 'y1': y, 'y2': y+h})\n",
    "                if counter < 30:\n",
    "                    if iou > 0.70 :\n",
    "                        timage = imout[y:y+h, x:x+w]\n",
    "                        resized = cv2.resize(timage, (224,224), interpolation = cv2.INTER_AREA)\n",
    "                        train_images.append(resized)\n",
    "                        train_labels.append(t['labels'][i])\n",
    "                        counter += 1\n",
    "                else:\n",
    "                    fflag = 1\n",
    "                if falsecounter < 30:\n",
    "                    if iou < 0.3:\n",
    "                        timage = imout[y:y+h, x:x+w]\n",
    "                        resized = cv2.resize(timage, (224,224), interpolation = cv2.INTER_AREA)\n",
    "                        train_images.append(resized)\n",
    "                        train_labels.append(0)\n",
    "                        falsecounter += 1\n",
    "                else:\n",
    "                    bflag = 1\n",
    "            if fflag == 1 and bflag ==1:\n",
    "                flag = 1\n",
    "                \n",
    "    return np.array(train_images, dtype=np.uint8), np.array(train_labels, dtype=np.int_)"
   ]
  },
  {
   "cell_type": "code",
   "execution_count": 11,
   "id": "d379fcbb-da3f-4025-b4bc-ce6ef07a72e6",
   "metadata": {},
   "outputs": [
    {
     "data": {
      "text/plain": [
       "AlexNet(\n",
       "  (features): Sequential(\n",
       "    (0): Conv2d(3, 64, kernel_size=(11, 11), stride=(4, 4), padding=(2, 2))\n",
       "    (1): ReLU(inplace=True)\n",
       "    (2): MaxPool2d(kernel_size=3, stride=2, padding=0, dilation=1, ceil_mode=False)\n",
       "    (3): Conv2d(64, 192, kernel_size=(5, 5), stride=(1, 1), padding=(2, 2))\n",
       "    (4): ReLU(inplace=True)\n",
       "    (5): MaxPool2d(kernel_size=3, stride=2, padding=0, dilation=1, ceil_mode=False)\n",
       "    (6): Conv2d(192, 384, kernel_size=(3, 3), stride=(1, 1), padding=(1, 1))\n",
       "    (7): ReLU(inplace=True)\n",
       "    (8): Conv2d(384, 256, kernel_size=(3, 3), stride=(1, 1), padding=(1, 1))\n",
       "    (9): ReLU(inplace=True)\n",
       "    (10): Conv2d(256, 256, kernel_size=(3, 3), stride=(1, 1), padding=(1, 1))\n",
       "    (11): ReLU(inplace=True)\n",
       "    (12): MaxPool2d(kernel_size=3, stride=2, padding=0, dilation=1, ceil_mode=False)\n",
       "  )\n",
       "  (avgpool): AdaptiveAvgPool2d(output_size=(6, 6))\n",
       "  (classifier): Sequential(\n",
       "    (0): Linear(in_features=9216, out_features=4096, bias=True)\n",
       "    (1): Linear(in_features=4096, out_features=134, bias=True)\n",
       "  )\n",
       ")"
      ]
     },
     "execution_count": 11,
     "metadata": {},
     "output_type": "execute_result"
    }
   ],
   "source": [
    "from torchvision import models\n",
    "from torch import nn\n",
    "\n",
    "model = models.alexnet()\n",
    "\n",
    "for param in model.parameters():\n",
    "    param.requires_grad = False\n",
    "    \n",
    "model.classifier = nn.Sequential(nn.Linear(9216, 4096),\n",
    "                                 nn.Linear(4096, len(id2ctg) + 1))\n",
    "\n",
    "\n",
    "model.cuda()"
   ]
  },
  {
   "cell_type": "code",
   "execution_count": 12,
   "id": "e073c0ef-247e-48d6-844a-a4b696178ea5",
   "metadata": {},
   "outputs": [],
   "source": [
    "from torch import optim\n",
    "\n",
    "criterion = nn.CrossEntropyLoss().cuda()\n",
    "optimizer = optim.SGD(model.parameters(), lr=0.01, momentum=0.9, weight_decay=0.0005)"
   ]
  },
  {
   "cell_type": "code",
   "execution_count": 13,
   "id": "16f75d33-88e3-47cc-b363-ae33c8468920",
   "metadata": {},
   "outputs": [],
   "source": [
    "from torchvision import transforms\n",
    "train_transform = transforms.Compose([transforms.ToTensor(),\n",
    "                                      transforms.RandomVerticalFlip(p=0.5),\n",
    "                                      transforms.RandomHorizontalFlip(p=0.5)])"
   ]
  },
  {
   "cell_type": "code",
   "execution_count": 14,
   "id": "a49c905c-6a6d-49a7-9ae6-98b564c1ba2a",
   "metadata": {},
   "outputs": [
    {
     "data": {
      "application/vnd.jupyter.widget-view+json": {
       "model_id": "30060251e3434aed99892c36d52a291d",
       "version_major": 2,
       "version_minor": 0
      },
      "text/plain": [
       "  0%|          | 0/4000 [00:00<?, ?it/s]"
      ]
     },
     "metadata": {},
     "output_type": "display_data"
    },
    {
     "ename": "KeyboardInterrupt",
     "evalue": "",
     "output_type": "error",
     "traceback": [
      "\u001b[0;31m---------------------------------------------------------------------------\u001b[0m",
      "\u001b[0;31mKeyboardInterrupt\u001b[0m                         Traceback (most recent call last)",
      "\u001b[0;32m<ipython-input-14-3cf98ef78344>\u001b[0m in \u001b[0;36m<module>\u001b[0;34m\u001b[0m\n\u001b[1;32m      4\u001b[0m \u001b[0;34m\u001b[0m\u001b[0m\n\u001b[1;32m      5\u001b[0m \u001b[0;32mfor\u001b[0m \u001b[0midx\u001b[0m\u001b[0;34m,\u001b[0m \u001b[0mt\u001b[0m \u001b[0;32min\u001b[0m \u001b[0menumerate\u001b[0m\u001b[0;34m(\u001b[0m\u001b[0mtk0\u001b[0m\u001b[0;34m,\u001b[0m \u001b[0mstart\u001b[0m\u001b[0;34m=\u001b[0m\u001b[0;36m1\u001b[0m\u001b[0;34m)\u001b[0m\u001b[0;34m:\u001b[0m\u001b[0;34m\u001b[0m\u001b[0;34m\u001b[0m\u001b[0m\n\u001b[0;32m----> 6\u001b[0;31m     \u001b[0mimage_data\u001b[0m\u001b[0;34m,\u001b[0m \u001b[0mlabel_data\u001b[0m \u001b[0;34m=\u001b[0m \u001b[0mSelectiveSearch\u001b[0m\u001b[0;34m(\u001b[0m\u001b[0mt\u001b[0m\u001b[0;34m,\u001b[0m \u001b[0mroot_dir\u001b[0m\u001b[0;34m)\u001b[0m\u001b[0;34m\u001b[0m\u001b[0;34m\u001b[0m\u001b[0m\n\u001b[0m\u001b[1;32m      7\u001b[0m     \u001b[0minputs\u001b[0m \u001b[0;34m=\u001b[0m \u001b[0mtorch\u001b[0m\u001b[0;34m.\u001b[0m\u001b[0mcat\u001b[0m\u001b[0;34m(\u001b[0m\u001b[0mtuple\u001b[0m\u001b[0;34m(\u001b[0m\u001b[0mtrain_transform\u001b[0m\u001b[0;34m(\u001b[0m\u001b[0mid\u001b[0m\u001b[0;34m)\u001b[0m\u001b[0;34m.\u001b[0m\u001b[0mcuda\u001b[0m\u001b[0;34m(\u001b[0m\u001b[0;34m)\u001b[0m\u001b[0;34m.\u001b[0m\u001b[0mreshape\u001b[0m\u001b[0;34m(\u001b[0m\u001b[0;34m-\u001b[0m\u001b[0;36m1\u001b[0m\u001b[0;34m,\u001b[0m \u001b[0;36m3\u001b[0m\u001b[0;34m,\u001b[0m \u001b[0;36m224\u001b[0m\u001b[0;34m,\u001b[0m \u001b[0;36m224\u001b[0m\u001b[0;34m)\u001b[0m \u001b[0;32mfor\u001b[0m \u001b[0mid\u001b[0m \u001b[0;32min\u001b[0m \u001b[0mimage_data\u001b[0m\u001b[0;34m)\u001b[0m\u001b[0;34m)\u001b[0m\u001b[0;34m\u001b[0m\u001b[0;34m\u001b[0m\u001b[0m\n\u001b[1;32m      8\u001b[0m     \u001b[0mlabels\u001b[0m \u001b[0;34m=\u001b[0m \u001b[0mtorch\u001b[0m\u001b[0;34m.\u001b[0m\u001b[0mTensor\u001b[0m\u001b[0;34m(\u001b[0m\u001b[0mlabel_data\u001b[0m\u001b[0;34m)\u001b[0m\u001b[0;34m.\u001b[0m\u001b[0mcuda\u001b[0m\u001b[0;34m(\u001b[0m\u001b[0;34m)\u001b[0m\u001b[0;34m\u001b[0m\u001b[0;34m\u001b[0m\u001b[0m\n",
      "\u001b[0;32m<ipython-input-9-cd92794deb68>\u001b[0m in \u001b[0;36mSelectiveSearch\u001b[0;34m(t, root_dir)\u001b[0m\n\u001b[1;32m     12\u001b[0m     \u001b[0mss\u001b[0m\u001b[0;34m.\u001b[0m\u001b[0msetBaseImage\u001b[0m\u001b[0;34m(\u001b[0m\u001b[0mimg\u001b[0m\u001b[0;34m)\u001b[0m\u001b[0;34m\u001b[0m\u001b[0;34m\u001b[0m\u001b[0m\n\u001b[1;32m     13\u001b[0m     \u001b[0mss\u001b[0m\u001b[0;34m.\u001b[0m\u001b[0mswitchToSelectiveSearchFast\u001b[0m\u001b[0;34m(\u001b[0m\u001b[0;34m)\u001b[0m\u001b[0;34m\u001b[0m\u001b[0;34m\u001b[0m\u001b[0m\n\u001b[0;32m---> 14\u001b[0;31m     \u001b[0mssresults\u001b[0m \u001b[0;34m=\u001b[0m \u001b[0mss\u001b[0m\u001b[0;34m.\u001b[0m\u001b[0mprocess\u001b[0m\u001b[0;34m(\u001b[0m\u001b[0;34m)\u001b[0m\u001b[0;34m\u001b[0m\u001b[0;34m\u001b[0m\u001b[0m\n\u001b[0m\u001b[1;32m     15\u001b[0m \u001b[0;34m\u001b[0m\u001b[0m\n\u001b[1;32m     16\u001b[0m     \u001b[0mimout\u001b[0m \u001b[0;34m=\u001b[0m \u001b[0mimg\u001b[0m\u001b[0;34m.\u001b[0m\u001b[0mcopy\u001b[0m\u001b[0;34m(\u001b[0m\u001b[0;34m)\u001b[0m\u001b[0;34m\u001b[0m\u001b[0;34m\u001b[0m\u001b[0m\n",
      "\u001b[0;31mKeyboardInterrupt\u001b[0m: "
     ]
    }
   ],
   "source": [
    "from tqdm.notebook import tqdm\n",
    "total_loss = 0.0\n",
    "tk0 = tqdm(train_list, total=len(train_list), leave=False)\n",
    "\n",
    "for idx, t in enumerate(tk0, start=1):\n",
    "    image_data, label_data = SelectiveSearch(t, root_dir)\n",
    "    inputs = torch.cat(tuple(train_transform(id).cuda().reshape(-1, 3, 224, 224) for id in image_data))\n",
    "    labels = torch.Tensor(label_data).cuda()\n",
    "    labels = labels.type(torch.long)\n",
    "\n",
    "    outputs = model(inputs)\n",
    "    loss = criterion(outputs, labels)\n",
    "    loss.backward()\n",
    "    optimizer.step()\n",
    "\n",
    "    total_loss += loss.item()\n",
    "    tk0.set_description(f'Step: {idx}. loss: {loss.item():.3f}. Mean loss: {total_loss / idx:.3f}')"
   ]
  },
  {
   "cell_type": "code",
   "execution_count": null,
   "id": "6f80cb78-7c66-40a5-8529-55ea44c4f755",
   "metadata": {},
   "outputs": [],
   "source": [
    "  \n",
    "    \n",
    "    "
   ]
  },
  {
   "cell_type": "code",
   "execution_count": null,
   "id": "062a33b3-b3b8-4347-a090-0966c9833174",
   "metadata": {},
   "outputs": [],
   "source": []
  },
  {
   "cell_type": "code",
   "execution_count": null,
   "id": "afa5848f-7010-4a81-91ed-debdee13d13f",
   "metadata": {},
   "outputs": [],
   "source": []
  },
  {
   "cell_type": "code",
   "execution_count": null,
   "id": "3ccc8cec-fcbf-4e28-a943-ffe65e5fdf7c",
   "metadata": {},
   "outputs": [],
   "source": []
  }
 ],
 "metadata": {
  "kernelspec": {
   "display_name": "Python 3",
   "language": "python",
   "name": "python3"
  },
  "language_info": {
   "codemirror_mode": {
    "name": "ipython",
    "version": 3
   },
   "file_extension": ".py",
   "mimetype": "text/x-python",
   "name": "python",
   "nbconvert_exporter": "python",
   "pygments_lexer": "ipython3",
   "version": "3.6.9"
  }
 },
 "nbformat": 4,
 "nbformat_minor": 5
}
