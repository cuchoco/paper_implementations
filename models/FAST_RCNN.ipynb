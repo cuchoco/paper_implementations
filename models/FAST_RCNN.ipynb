{
 "cells": [
  {
   "cell_type": "code",
   "execution_count": 21,
   "id": "9b2f2c1b-0179-489f-b5d9-8ef0503334ba",
   "metadata": {},
   "outputs": [],
   "source": [
    "import pandas as pd\n",
    "import json\n",
    "import numpy as np\n",
    "import os\n",
    "import torch \n",
    "import cv2 \n",
    "import matplotlib.pyplot as plt\n",
    "ann_dir = '../annotation/annotations/panoptic_val2017.json'\n",
    "root_dir = '../data/val2017/'\n",
    "\n",
    "\n",
    "os.environ[\"CUDA_DEVICE_ORDER\"]=\"PCI_BUS_ID\"\n",
    "os.environ[\"CUDA_VISIBLE_DEVICES\"] = '2'"
   ]
  },
  {
   "cell_type": "code",
   "execution_count": 3,
   "id": "57f6b96f-317b-42d1-821f-ae564477427a",
   "metadata": {},
   "outputs": [],
   "source": [
    "with open(ann_dir, 'r') as f:\n",
    "    temp = json.load(f)"
   ]
  },
  {
   "cell_type": "code",
   "execution_count": 8,
   "id": "9b2cfeba-33d7-4020-ba9d-54a8b77dd5e1",
   "metadata": {},
   "outputs": [],
   "source": [
    "def get_items(ann_dir):\n",
    "    with open(ann_dir, 'r') as f:\n",
    "        temp = json.load(f)\n",
    "    image_list = []\n",
    "    ctg_df = pd.DataFrame(temp['categories'])\n",
    "    id2ctg = dict(ctg_df.set_index('id')['name'])\n",
    "    ctg2id = dict(ctg_df.set_index('name')['id'])\n",
    "    for a in temp['annotations']:\n",
    "        image_id = a['file_name'][:-4]\n",
    "        \n",
    "        bbox = np.stack([i['bbox'] for i in a['segments_info']])\n",
    "        labels = np.asarray([i['category_id'] for i in a['segments_info']])\n",
    "        image_list.append({'image_id': image_id,\n",
    "                           'bbox': bbox,\n",
    "                           'labels': labels})\n",
    "    return np.asanyarray(image_list), id2ctg"
   ]
  },
  {
   "cell_type": "code",
   "execution_count": null,
   "id": "b32e9980-507f-4345-b918-16791ab4dd84",
   "metadata": {},
   "outputs": [],
   "source": [
    "def IoU(box1, box2):\n",
    "    # box = (x1, y1, x2, y2)\n",
    "    box1_area = (box1[2] - box1[0] + 1) * (box1[3] - box1[1] + 1)\n",
    "    box2_area = (box2[2] - box2[0] + 1) * (box2[3] - box2[1] + 1)\n",
    "\n",
    "    # obtain x1, y1, x2, y2 of the intersection\n",
    "    x1 = max(box1[0], box2[0])\n",
    "    y1 = max(box1[1], box2[1])\n",
    "    x2 = min(box1[2], box2[2])\n",
    "    y2 = min(box1[3], box2[3])\n",
    "\n",
    "    # compute the width and height of the intersection\n",
    "    w = max(0, x2 - x1 + 1)\n",
    "    h = max(0, y2 - y1 + 1)\n",
    "\n",
    "    inter = w * h\n",
    "    iou = inter / (box1_area + box2_area - inter)\n",
    "    return iou"
   ]
  },
  {
   "cell_type": "code",
   "execution_count": 214,
   "id": "deedb13a-a791-4c5a-9ac6-e82872f71cfb",
   "metadata": {},
   "outputs": [],
   "source": [
    "image_list, id2dtg = get_items(ann_dir)\n",
    "img_id,bbox,_ = image_list[4002].values()\n",
    "img = cv2.imread(f'{root_dir}{img_id}.jpg')\n",
    "img = cv2.cvtColor(img, cv2.COLOR_BGR2RGB)\n",
    "# ss = cv2.ximgproc.segmentation.createSelectiveSearchSegmentation()\n",
    "# ss.setBaseImage(img)\n",
    "# ss.switchToSelectiveSearchFast()\n",
    "# ssresults = ss.process()\n"
   ]
  },
  {
   "cell_type": "code",
   "execution_count": 138,
   "id": "345909d5-c69a-4355-955d-9e8dc4e79a63",
   "metadata": {},
   "outputs": [
    {
     "name": "stdout",
     "output_type": "stream",
     "text": [
      "[0, 0, 612, 612]\n",
      "[0, 0, 612, 513]\n",
      "[0, 173, 612, 612]\n",
      "[0, 110, 436, 612]\n",
      "[0, 0, 528, 612]\n",
      "[34, 0, 612, 598]\n",
      "[0, 0, 510, 612]\n",
      "[34, 0, 464, 598]\n",
      "[0, 0, 453, 612]\n",
      "[0, 113, 612, 612]\n",
      "[49, 0, 612, 612]\n",
      "[0, 0, 612, 477]\n",
      "[0, 0, 595, 517]\n",
      "[0, 114, 612, 612]\n",
      "[61, 0, 612, 612]\n",
      "[0, 0, 612, 519]\n",
      "[0, 0, 612, 517]\n",
      "[0, 0, 612, 470]\n"
     ]
    }
   ],
   "source": [
    "boxes = bbox\n",
    "boxes[:, 2] = boxes[:, 0] + boxes[:, 2]\n",
    "boxes[:, 3] = boxes[:, 1] + boxes[:, 3]\n",
    "\n",
    "for idx, result in enumerate(ssresults):\n",
    "    if idx < 2000:\n",
    "        for i, gtval in enumerate(boxes):    # ground truth\n",
    "            x, y, w, h = result\n",
    "            box2 = [x,y,x+w,y+h]\n",
    "            iou = IoU(gtval, box2)\n",
    "            if iou > 0.7:\n",
    "                print(box2)\n",
    "                cv2.rectangle(img,(x,y),(x+w,y+h),(0,0,255))\n"
   ]
  },
  {
   "cell_type": "code",
   "execution_count": 174,
   "id": "bf7e8d67-d607-4592-bd2f-c45a14b700f5",
   "metadata": {},
   "outputs": [],
   "source": [
    "for box, label in zip(bbox, labels):\n",
    "    x,y,w,h = box\n",
    "    cv2.rectangle(img,(x,y),(x+w, y+h),(0,0,255),2)\n",
    "    cv2.putText(img, f'{label}', (x, y-10), cv2.FONT_HERSHEY_SIMPLEX, 0.9, (0,0,255), 2)"
   ]
  },
  {
   "cell_type": "code",
   "execution_count": 164,
   "id": "6a55fb0a-9ba1-4f63-84bd-15daea75b318",
   "metadata": {},
   "outputs": [],
   "source": [
    "labels = [id2dtg[i] for i in _]"
   ]
  },
  {
   "cell_type": "code",
   "execution_count": 182,
   "id": "375bf4e4-cfe8-4778-b540-fd150a5ed419",
   "metadata": {},
   "outputs": [],
   "source": []
  },
  {
   "cell_type": "code",
   "execution_count": null,
   "id": "a6b163c8-c0a8-494e-9750-5f739c2d74e4",
   "metadata": {},
   "outputs": [],
   "source": []
  }
 ],
 "metadata": {
  "kernelspec": {
   "display_name": "Python 3",
   "language": "python",
   "name": "python3"
  },
  "language_info": {
   "codemirror_mode": {
    "name": "ipython",
    "version": 3
   },
   "file_extension": ".py",
   "mimetype": "text/x-python",
   "name": "python",
   "nbconvert_exporter": "python",
   "pygments_lexer": "ipython3",
   "version": "3.6.9"
  }
 },
 "nbformat": 4,
 "nbformat_minor": 5
}
