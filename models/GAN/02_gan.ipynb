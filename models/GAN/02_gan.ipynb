{
 "cells": [
  {
   "cell_type": "code",
   "execution_count": 1,
   "metadata": {},
   "outputs": [
    {
     "data": {
      "text/plain": [
       "<torch._C.Generator at 0x7fb27436a2b0>"
      ]
     },
     "execution_count": 1,
     "metadata": {},
     "output_type": "execute_result"
    }
   ],
   "source": [
    "import torch\n",
    "import torch.nn as nn\n",
    "import torchvision.transforms as transforms\n",
    "import torch.optim as optim\n",
    "import torchvision.datasets as datasets\n",
    "import imageio\n",
    "import numpy as np\n",
    "import matplotlib\n",
    "from torchvision.utils import make_grid, save_image\n",
    "from torch.utils.data import DataLoader\n",
    "from matplotlib import pyplot as plt\n",
    "from tqdm import tqdm\n",
    "import os \n",
    "\n",
    "matplotlib.style.use('ggplot')\n",
    "\n",
    "os.environ[\"CUDA_DEVICE_ORDER\"]=\"PCI_BUS_ID\"\n",
    "os.environ[\"CUDA_VISIBLE_DEVICES\"] = '2'\n",
    "\n",
    "torch.manual_seed(10)"
   ]
  },
  {
   "cell_type": "code",
   "execution_count": 2,
   "metadata": {},
   "outputs": [],
   "source": [
    "# learning parameters\n",
    "batch_size = 512\n",
    "epochs = 200\n",
    "sample_size = 64 # fixed sample size\n",
    "nz = 128 # latent vector size\n",
    "k = 1 # number of steps to apply to the discriminator\n",
    "device = torch.device('cuda' if torch.cuda.is_available() else 'cpu')\n",
    "\n",
    "transform = transforms.Compose([\n",
    "                                transforms.ToTensor(),\n",
    "                                transforms.Normalize((0.5,),(0.5,)),\n",
    "])\n",
    "to_pil_image = transforms.ToPILImage()"
   ]
  },
  {
   "cell_type": "code",
   "execution_count": 3,
   "metadata": {},
   "outputs": [],
   "source": [
    "train_data = datasets.MNIST(\n",
    "    root='../../data/mnist/',\n",
    "    train=True,\n",
    "    download=True,\n",
    "    transform=transform\n",
    ")\n",
    "train_loader = DataLoader(train_data, batch_size=batch_size, shuffle=True)"
   ]
  },
  {
   "cell_type": "code",
   "execution_count": 4,
   "metadata": {},
   "outputs": [],
   "source": [
    "class Generator(nn.Module):\n",
    "    def __init__(self, nz):\n",
    "        super(Generator, self).__init__()\n",
    "        self.nz = nz\n",
    "        self.main = nn.Sequential(\n",
    "            nn.Linear(self.nz, 256),\n",
    "            nn.LeakyReLU(0.2),\n",
    "            nn.Linear(256, 512),\n",
    "            nn.LeakyReLU(0.2),\n",
    "            nn.Linear(512, 1024),\n",
    "            nn.LeakyReLU(0.2),\n",
    "            nn.Linear(1024, 784),\n",
    "            nn.Tanh(),\n",
    "        )\n",
    "    def forward(self, x):\n",
    "        return self.main(x).view(-1, 1, 28, 28)\n",
    "    \n",
    "    \n",
    "class Discriminator(nn.Module):\n",
    "    def __init__(self):\n",
    "        super(Discriminator, self).__init__()\n",
    "        self.n_input = 784\n",
    "        self.main = nn.Sequential(\n",
    "            nn.Linear(self.n_input, 1024),\n",
    "            nn.LeakyReLU(0.2),\n",
    "            nn.Dropout(0.3),\n",
    "            nn.Linear(1024, 512),\n",
    "            nn.LeakyReLU(0.2),\n",
    "            nn.Dropout(0.3),\n",
    "            nn.Linear(512, 256),\n",
    "            nn.LeakyReLU(0.2),\n",
    "            nn.Dropout(0.3),\n",
    "            nn.Linear(256, 1),\n",
    "            nn.Sigmoid(),\n",
    "        )\n",
    "    def forward(self, x):\n",
    "        x = x.view(-1, 784)\n",
    "        return self.main(x)"
   ]
  },
  {
   "cell_type": "code",
   "execution_count": 5,
   "metadata": {},
   "outputs": [
    {
     "name": "stdout",
     "output_type": "stream",
     "text": [
      "##### GENERATOR #####\n",
      "Generator(\n",
      "  (main): Sequential(\n",
      "    (0): Linear(in_features=128, out_features=256, bias=True)\n",
      "    (1): LeakyReLU(negative_slope=0.2)\n",
      "    (2): Linear(in_features=256, out_features=512, bias=True)\n",
      "    (3): LeakyReLU(negative_slope=0.2)\n",
      "    (4): Linear(in_features=512, out_features=1024, bias=True)\n",
      "    (5): LeakyReLU(negative_slope=0.2)\n",
      "    (6): Linear(in_features=1024, out_features=784, bias=True)\n",
      "    (7): Tanh()\n",
      "  )\n",
      ")\n",
      "######################\n",
      "\n",
      "##### DISCRIMINATOR #####\n",
      "Discriminator(\n",
      "  (main): Sequential(\n",
      "    (0): Linear(in_features=784, out_features=1024, bias=True)\n",
      "    (1): LeakyReLU(negative_slope=0.2)\n",
      "    (2): Dropout(p=0.3, inplace=False)\n",
      "    (3): Linear(in_features=1024, out_features=512, bias=True)\n",
      "    (4): LeakyReLU(negative_slope=0.2)\n",
      "    (5): Dropout(p=0.3, inplace=False)\n",
      "    (6): Linear(in_features=512, out_features=256, bias=True)\n",
      "    (7): LeakyReLU(negative_slope=0.2)\n",
      "    (8): Dropout(p=0.3, inplace=False)\n",
      "    (9): Linear(in_features=256, out_features=1, bias=True)\n",
      "    (10): Sigmoid()\n",
      "  )\n",
      ")\n",
      "######################\n"
     ]
    }
   ],
   "source": [
    "generator = Generator(nz).to(device)\n",
    "discriminator = Discriminator().to(device)\n",
    "print('##### GENERATOR #####')\n",
    "print(generator)\n",
    "print('######################')\n",
    "print('\\n##### DISCRIMINATOR #####')\n",
    "print(discriminator)\n",
    "print('######################')"
   ]
  },
  {
   "cell_type": "code",
   "execution_count": 6,
   "metadata": {},
   "outputs": [],
   "source": [
    "# optimizers\n",
    "optim_g = optim.Adam(generator.parameters(), lr=0.0002)\n",
    "optim_d = optim.Adam(discriminator.parameters(), lr=0.0002)\n",
    "\n",
    "# loss function\n",
    "criterion = nn.BCELoss()\n",
    "\n",
    "\n",
    "losses_g = [] # to store generator loss after each epoch\n",
    "losses_d = [] # to store discriminator loss after each epoch\n",
    "images = [] # to store images generatd by the generator\n",
    "\n",
    "\n",
    "\n",
    "# to create real labels (1s)\n",
    "def label_real(size):\n",
    "    data = torch.ones(size, 1)\n",
    "    return data.to(device)\n",
    "# to create fake labels (0s)\n",
    "def label_fake(size):\n",
    "    data = torch.zeros(size, 1)\n",
    "    return data.to(device)\n",
    "# function to create the noise vector\n",
    "def create_noise(sample_size, nz):\n",
    "    return torch.randn(sample_size, nz).to(device)\n",
    "# to save the images generated by the generator\n",
    "def save_generator_image(image, path):\n",
    "    save_image(image, path)"
   ]
  },
  {
   "cell_type": "code",
   "execution_count": 7,
   "metadata": {},
   "outputs": [],
   "source": [
    "# function to train the discriminator network\n",
    "def train_discriminator(optimizer, data_real, data_fake):\n",
    "    b_size = data_real.size(0)\n",
    "    real_label = label_real(b_size)\n",
    "    fake_label = label_fake(b_size)\n",
    "    optimizer.zero_grad()\n",
    "    output_real = discriminator(data_real)\n",
    "    loss_real = criterion(output_real, real_label)\n",
    "    output_fake = discriminator(data_fake)\n",
    "    loss_fake = criterion(output_fake, fake_label)\n",
    "    loss_real.backward()\n",
    "    loss_fake.backward()\n",
    "    optimizer.step()\n",
    "    return loss_real + loss_fake\n",
    "\n",
    "\n",
    "# function to train the generator network\n",
    "def train_generator(optimizer, data_fake):\n",
    "    b_size = data_fake.size(0)\n",
    "    real_label = label_real(b_size)\n",
    "    optimizer.zero_grad()\n",
    "    output = discriminator(data_fake)\n",
    "    loss = criterion(output, real_label)\n",
    "    loss.backward()\n",
    "    optimizer.step()\n",
    "    return loss"
   ]
  },
  {
   "cell_type": "code",
   "execution_count": 8,
   "metadata": {},
   "outputs": [
    {
     "data": {
      "text/plain": [
       "Discriminator(\n",
       "  (main): Sequential(\n",
       "    (0): Linear(in_features=784, out_features=1024, bias=True)\n",
       "    (1): LeakyReLU(negative_slope=0.2)\n",
       "    (2): Dropout(p=0.3, inplace=False)\n",
       "    (3): Linear(in_features=1024, out_features=512, bias=True)\n",
       "    (4): LeakyReLU(negative_slope=0.2)\n",
       "    (5): Dropout(p=0.3, inplace=False)\n",
       "    (6): Linear(in_features=512, out_features=256, bias=True)\n",
       "    (7): LeakyReLU(negative_slope=0.2)\n",
       "    (8): Dropout(p=0.3, inplace=False)\n",
       "    (9): Linear(in_features=256, out_features=1, bias=True)\n",
       "    (10): Sigmoid()\n",
       "  )\n",
       ")"
      ]
     },
     "execution_count": 8,
     "metadata": {},
     "output_type": "execute_result"
    }
   ],
   "source": [
    "# create the noise vector\n",
    "noise = create_noise(sample_size, nz)\n",
    "generator.train()\n",
    "discriminator.train()"
   ]
  },
  {
   "cell_type": "code",
   "execution_count": 9,
   "metadata": {
    "scrolled": true,
    "tags": []
   },
   "outputs": [
    {
     "name": "stderr",
     "output_type": "stream",
     "text": [
      "118it [00:08, 14.39it/s]                         \n",
      "  2%|▏         | 2/117 [00:00<00:07, 14.73it/s]"
     ]
    },
    {
     "name": "stdout",
     "output_type": "stream",
     "text": [
      "Epoch 0 of 200\n",
      "Generator loss: 1.29206932, Discriminator loss: 0.93183458\n"
     ]
    },
    {
     "name": "stderr",
     "output_type": "stream",
     "text": [
      "118it [00:07, 15.28it/s]                         \n",
      "  2%|▏         | 2/117 [00:00<00:07, 15.04it/s]"
     ]
    },
    {
     "name": "stdout",
     "output_type": "stream",
     "text": [
      "Epoch 1 of 200\n",
      "Generator loss: 3.74925256, Discriminator loss: 0.97084177\n"
     ]
    },
    {
     "name": "stderr",
     "output_type": "stream",
     "text": [
      "118it [00:07, 15.27it/s]                         \n",
      "  2%|▏         | 2/117 [00:00<00:09, 12.46it/s]"
     ]
    },
    {
     "name": "stdout",
     "output_type": "stream",
     "text": [
      "Epoch 2 of 200\n",
      "Generator loss: 6.20915747, Discriminator loss: 0.19266677\n"
     ]
    },
    {
     "name": "stderr",
     "output_type": "stream",
     "text": [
      "118it [00:09, 12.80it/s]                         \n",
      "  2%|▏         | 2/117 [00:00<00:09, 12.44it/s]"
     ]
    },
    {
     "name": "stdout",
     "output_type": "stream",
     "text": [
      "Epoch 3 of 200\n",
      "Generator loss: 5.88528442, Discriminator loss: 0.84267920\n"
     ]
    },
    {
     "name": "stderr",
     "output_type": "stream",
     "text": [
      "118it [00:09, 12.57it/s]                         \n",
      "  2%|▏         | 2/117 [00:00<00:09, 12.13it/s]"
     ]
    },
    {
     "name": "stdout",
     "output_type": "stream",
     "text": [
      "Epoch 4 of 200\n",
      "Generator loss: 3.59255815, Discriminator loss: 0.82652754\n"
     ]
    },
    {
     "name": "stderr",
     "output_type": "stream",
     "text": [
      "118it [00:09, 12.48it/s]                         \n",
      "  1%|          | 1/117 [00:00<00:11,  9.92it/s]"
     ]
    },
    {
     "name": "stdout",
     "output_type": "stream",
     "text": [
      "Epoch 5 of 200\n",
      "Generator loss: 1.83253443, Discriminator loss: 1.05376887\n"
     ]
    },
    {
     "name": "stderr",
     "output_type": "stream",
     "text": [
      "118it [00:09, 12.29it/s]                         \n",
      "  2%|▏         | 2/117 [00:00<00:08, 12.95it/s]"
     ]
    },
    {
     "name": "stdout",
     "output_type": "stream",
     "text": [
      "Epoch 6 of 200\n",
      "Generator loss: 2.81801438, Discriminator loss: 0.67256832\n"
     ]
    },
    {
     "name": "stderr",
     "output_type": "stream",
     "text": [
      "118it [00:09, 12.18it/s]                         \n",
      "  2%|▏         | 2/117 [00:00<00:08, 12.91it/s]"
     ]
    },
    {
     "name": "stdout",
     "output_type": "stream",
     "text": [
      "Epoch 7 of 200\n",
      "Generator loss: 2.08938503, Discriminator loss: 0.86670232\n"
     ]
    },
    {
     "name": "stderr",
     "output_type": "stream",
     "text": [
      "118it [00:09, 13.03it/s]                         \n",
      "  2%|▏         | 2/117 [00:00<00:09, 12.60it/s]"
     ]
    },
    {
     "name": "stdout",
     "output_type": "stream",
     "text": [
      "Epoch 8 of 200\n",
      "Generator loss: 2.16275644, Discriminator loss: 0.89000809\n"
     ]
    },
    {
     "name": "stderr",
     "output_type": "stream",
     "text": [
      "118it [00:09, 12.20it/s]                         \n",
      "  2%|▏         | 2/117 [00:00<00:09, 11.86it/s]"
     ]
    },
    {
     "name": "stdout",
     "output_type": "stream",
     "text": [
      "Epoch 9 of 200\n",
      "Generator loss: 1.79410338, Discriminator loss: 1.15958691\n"
     ]
    },
    {
     "name": "stderr",
     "output_type": "stream",
     "text": [
      "118it [00:09, 12.17it/s]                         \n",
      "  2%|▏         | 2/117 [00:00<00:09, 11.84it/s]"
     ]
    },
    {
     "name": "stdout",
     "output_type": "stream",
     "text": [
      "Epoch 10 of 200\n",
      "Generator loss: 1.89128995, Discriminator loss: 0.83953869\n"
     ]
    },
    {
     "name": "stderr",
     "output_type": "stream",
     "text": [
      "118it [00:09, 12.35it/s]                         \n",
      "  2%|▏         | 2/117 [00:00<00:09, 12.67it/s]"
     ]
    },
    {
     "name": "stdout",
     "output_type": "stream",
     "text": [
      "Epoch 11 of 200\n",
      "Generator loss: 1.79282737, Discriminator loss: 1.04467726\n"
     ]
    },
    {
     "name": "stderr",
     "output_type": "stream",
     "text": [
      "118it [00:09, 12.23it/s]                         \n",
      "  2%|▏         | 2/117 [00:00<00:09, 11.62it/s]"
     ]
    },
    {
     "name": "stdout",
     "output_type": "stream",
     "text": [
      "Epoch 12 of 200\n",
      "Generator loss: 1.96141970, Discriminator loss: 0.96834296\n"
     ]
    },
    {
     "name": "stderr",
     "output_type": "stream",
     "text": [
      "118it [00:09, 12.72it/s]                         \n",
      "  2%|▏         | 2/117 [00:00<00:07, 14.89it/s]"
     ]
    },
    {
     "name": "stdout",
     "output_type": "stream",
     "text": [
      "Epoch 13 of 200\n",
      "Generator loss: 2.88959742, Discriminator loss: 0.67532599\n"
     ]
    },
    {
     "name": "stderr",
     "output_type": "stream",
     "text": [
      "118it [00:09, 13.09it/s]                         \n",
      "  2%|▏         | 2/117 [00:00<00:08, 12.96it/s]"
     ]
    },
    {
     "name": "stdout",
     "output_type": "stream",
     "text": [
      "Epoch 14 of 200\n",
      "Generator loss: 1.97826040, Discriminator loss: 1.08539438\n"
     ]
    },
    {
     "name": "stderr",
     "output_type": "stream",
     "text": [
      "118it [00:09, 12.28it/s]                         \n",
      "  2%|▏         | 2/117 [00:00<00:09, 11.93it/s]"
     ]
    },
    {
     "name": "stdout",
     "output_type": "stream",
     "text": [
      "Epoch 15 of 200\n",
      "Generator loss: 2.43887997, Discriminator loss: 0.73608732\n"
     ]
    },
    {
     "name": "stderr",
     "output_type": "stream",
     "text": [
      "118it [00:09, 12.31it/s]                         \n",
      "  2%|▏         | 2/117 [00:00<00:10, 11.28it/s]"
     ]
    },
    {
     "name": "stdout",
     "output_type": "stream",
     "text": [
      "Epoch 16 of 200\n",
      "Generator loss: 2.78469133, Discriminator loss: 0.89691770\n"
     ]
    },
    {
     "name": "stderr",
     "output_type": "stream",
     "text": [
      "118it [00:09, 12.13it/s]                         \n",
      "  2%|▏         | 2/117 [00:00<00:09, 12.77it/s]"
     ]
    },
    {
     "name": "stdout",
     "output_type": "stream",
     "text": [
      "Epoch 17 of 200\n",
      "Generator loss: 3.01298380, Discriminator loss: 0.74725240\n"
     ]
    },
    {
     "name": "stderr",
     "output_type": "stream",
     "text": [
      "118it [00:09, 12.22it/s]                         \n",
      "  2%|▏         | 2/117 [00:00<00:10, 11.31it/s]"
     ]
    },
    {
     "name": "stdout",
     "output_type": "stream",
     "text": [
      "Epoch 18 of 200\n",
      "Generator loss: 2.84764457, Discriminator loss: 0.69281548\n"
     ]
    },
    {
     "name": "stderr",
     "output_type": "stream",
     "text": [
      "118it [00:09, 13.10it/s]                         \n",
      "  2%|▏         | 2/117 [00:00<00:09, 11.67it/s]"
     ]
    },
    {
     "name": "stdout",
     "output_type": "stream",
     "text": [
      "Epoch 19 of 200\n",
      "Generator loss: 3.40681601, Discriminator loss: 0.64694804\n"
     ]
    },
    {
     "name": "stderr",
     "output_type": "stream",
     "text": [
      "118it [00:09, 12.12it/s]                         \n",
      "  2%|▏         | 2/117 [00:00<00:10, 10.61it/s]"
     ]
    },
    {
     "name": "stdout",
     "output_type": "stream",
     "text": [
      "Epoch 20 of 200\n",
      "Generator loss: 3.87196016, Discriminator loss: 0.71632141\n"
     ]
    },
    {
     "name": "stderr",
     "output_type": "stream",
     "text": [
      "118it [00:09, 12.12it/s]                         \n",
      "  1%|          | 1/117 [00:00<00:12,  8.94it/s]"
     ]
    },
    {
     "name": "stdout",
     "output_type": "stream",
     "text": [
      "Epoch 21 of 200\n",
      "Generator loss: 3.44352102, Discriminator loss: 0.44130895\n"
     ]
    },
    {
     "name": "stderr",
     "output_type": "stream",
     "text": [
      "118it [00:09, 12.18it/s]                         \n",
      "  2%|▏         | 2/117 [00:00<00:09, 12.39it/s]"
     ]
    },
    {
     "name": "stdout",
     "output_type": "stream",
     "text": [
      "Epoch 22 of 200\n",
      "Generator loss: 4.17306900, Discriminator loss: 0.37379220\n"
     ]
    },
    {
     "name": "stderr",
     "output_type": "stream",
     "text": [
      "118it [00:09, 12.20it/s]                         \n",
      "  2%|▏         | 2/117 [00:00<00:09, 11.77it/s]"
     ]
    },
    {
     "name": "stdout",
     "output_type": "stream",
     "text": [
      "Epoch 23 of 200\n",
      "Generator loss: 3.87427354, Discriminator loss: 0.48746064\n"
     ]
    },
    {
     "name": "stderr",
     "output_type": "stream",
     "text": [
      "118it [00:09, 12.15it/s]                         \n",
      "  1%|          | 1/117 [00:00<00:11,  9.73it/s]"
     ]
    },
    {
     "name": "stdout",
     "output_type": "stream",
     "text": [
      "Epoch 24 of 200\n",
      "Generator loss: 2.85040808, Discriminator loss: 0.72727239\n"
     ]
    },
    {
     "name": "stderr",
     "output_type": "stream",
     "text": [
      "118it [00:09, 12.19it/s]                         \n",
      "  2%|▏         | 2/117 [00:00<00:09, 12.70it/s]"
     ]
    },
    {
     "name": "stdout",
     "output_type": "stream",
     "text": [
      "Epoch 25 of 200\n",
      "Generator loss: 2.44658756, Discriminator loss: 0.66554165\n"
     ]
    },
    {
     "name": "stderr",
     "output_type": "stream",
     "text": [
      "118it [00:09, 12.08it/s]                         \n",
      "  2%|▏         | 2/117 [00:00<00:09, 12.70it/s]"
     ]
    },
    {
     "name": "stdout",
     "output_type": "stream",
     "text": [
      "Epoch 26 of 200\n",
      "Generator loss: 2.84801483, Discriminator loss: 0.74438441\n"
     ]
    },
    {
     "name": "stderr",
     "output_type": "stream",
     "text": [
      "118it [00:09, 12.12it/s]                         \n",
      "  2%|▏         | 2/117 [00:00<00:09, 12.43it/s]"
     ]
    },
    {
     "name": "stdout",
     "output_type": "stream",
     "text": [
      "Epoch 27 of 200\n",
      "Generator loss: 3.03721690, Discriminator loss: 0.45543116\n"
     ]
    },
    {
     "name": "stderr",
     "output_type": "stream",
     "text": [
      "118it [00:09, 12.03it/s]                         \n",
      "  2%|▏         | 2/117 [00:00<00:09, 11.86it/s]"
     ]
    },
    {
     "name": "stdout",
     "output_type": "stream",
     "text": [
      "Epoch 28 of 200\n",
      "Generator loss: 3.11344266, Discriminator loss: 0.64902890\n"
     ]
    },
    {
     "name": "stderr",
     "output_type": "stream",
     "text": [
      "118it [00:09, 12.33it/s]                         \n",
      "  1%|          | 1/117 [00:00<00:14,  8.02it/s]"
     ]
    },
    {
     "name": "stdout",
     "output_type": "stream",
     "text": [
      "Epoch 29 of 200\n",
      "Generator loss: 2.79629397, Discriminator loss: 0.51572168\n"
     ]
    },
    {
     "name": "stderr",
     "output_type": "stream",
     "text": [
      "118it [00:09, 12.11it/s]                         \n",
      "  2%|▏         | 2/117 [00:00<00:09, 12.56it/s]"
     ]
    },
    {
     "name": "stdout",
     "output_type": "stream",
     "text": [
      "Epoch 30 of 200\n",
      "Generator loss: 3.29987288, Discriminator loss: 0.44118026\n"
     ]
    },
    {
     "name": "stderr",
     "output_type": "stream",
     "text": [
      "118it [00:09, 12.06it/s]                         \n",
      "  2%|▏         | 2/117 [00:00<00:09, 11.70it/s]"
     ]
    },
    {
     "name": "stdout",
     "output_type": "stream",
     "text": [
      "Epoch 31 of 200\n",
      "Generator loss: 3.34275723, Discriminator loss: 0.51667202\n"
     ]
    },
    {
     "name": "stderr",
     "output_type": "stream",
     "text": [
      "118it [00:09, 11.87it/s]                         \n",
      "  2%|▏         | 2/117 [00:00<00:09, 11.60it/s]"
     ]
    },
    {
     "name": "stdout",
     "output_type": "stream",
     "text": [
      "Epoch 32 of 200\n",
      "Generator loss: 3.26598668, Discriminator loss: 0.43796909\n"
     ]
    },
    {
     "name": "stderr",
     "output_type": "stream",
     "text": [
      "118it [00:09, 12.16it/s]                         \n",
      "  2%|▏         | 2/117 [00:00<00:09, 11.65it/s]"
     ]
    },
    {
     "name": "stdout",
     "output_type": "stream",
     "text": [
      "Epoch 33 of 200\n",
      "Generator loss: 3.35323548, Discriminator loss: 0.48618731\n"
     ]
    },
    {
     "name": "stderr",
     "output_type": "stream",
     "text": [
      "118it [00:09, 12.23it/s]                         \n",
      "  2%|▏         | 2/117 [00:00<00:09, 12.58it/s]"
     ]
    },
    {
     "name": "stdout",
     "output_type": "stream",
     "text": [
      "Epoch 34 of 200\n",
      "Generator loss: 3.34549665, Discriminator loss: 0.47403947\n"
     ]
    },
    {
     "name": "stderr",
     "output_type": "stream",
     "text": [
      "118it [00:09, 12.25it/s]                         \n",
      "  2%|▏         | 2/117 [00:00<00:09, 12.41it/s]"
     ]
    },
    {
     "name": "stdout",
     "output_type": "stream",
     "text": [
      "Epoch 35 of 200\n",
      "Generator loss: 3.17441249, Discriminator loss: 0.48125538\n"
     ]
    },
    {
     "name": "stderr",
     "output_type": "stream",
     "text": [
      "118it [00:09, 12.23it/s]                         \n",
      "  2%|▏         | 2/117 [00:00<00:09, 11.64it/s]"
     ]
    },
    {
     "name": "stdout",
     "output_type": "stream",
     "text": [
      "Epoch 36 of 200\n",
      "Generator loss: 3.34182358, Discriminator loss: 0.41130495\n"
     ]
    },
    {
     "name": "stderr",
     "output_type": "stream",
     "text": [
      "118it [00:09, 12.04it/s]                         \n",
      "  2%|▏         | 2/117 [00:00<00:09, 11.58it/s]"
     ]
    },
    {
     "name": "stdout",
     "output_type": "stream",
     "text": [
      "Epoch 37 of 200\n",
      "Generator loss: 3.06240058, Discriminator loss: 0.49050462\n"
     ]
    },
    {
     "name": "stderr",
     "output_type": "stream",
     "text": [
      "118it [00:09, 12.00it/s]                         \n",
      "  2%|▏         | 2/117 [00:00<00:09, 12.50it/s]"
     ]
    },
    {
     "name": "stdout",
     "output_type": "stream",
     "text": [
      "Epoch 38 of 200\n",
      "Generator loss: 3.40254021, Discriminator loss: 0.42685270\n"
     ]
    },
    {
     "name": "stderr",
     "output_type": "stream",
     "text": [
      "118it [00:09, 11.96it/s]                         \n",
      "  2%|▏         | 2/117 [00:00<00:09, 12.34it/s]"
     ]
    },
    {
     "name": "stdout",
     "output_type": "stream",
     "text": [
      "Epoch 39 of 200\n",
      "Generator loss: 3.25349116, Discriminator loss: 0.44308531\n"
     ]
    },
    {
     "name": "stderr",
     "output_type": "stream",
     "text": [
      "118it [00:09, 12.01it/s]                         \n",
      "  2%|▏         | 2/117 [00:00<00:09, 12.57it/s]"
     ]
    },
    {
     "name": "stdout",
     "output_type": "stream",
     "text": [
      "Epoch 40 of 200\n",
      "Generator loss: 3.36163902, Discriminator loss: 0.41248396\n"
     ]
    },
    {
     "name": "stderr",
     "output_type": "stream",
     "text": [
      "118it [00:09, 11.99it/s]                         \n",
      "  2%|▏         | 2/117 [00:00<00:10, 11.11it/s]"
     ]
    },
    {
     "name": "stdout",
     "output_type": "stream",
     "text": [
      "Epoch 41 of 200\n",
      "Generator loss: 3.22555375, Discriminator loss: 0.51418561\n"
     ]
    },
    {
     "name": "stderr",
     "output_type": "stream",
     "text": [
      "118it [00:09, 11.95it/s]                         \n",
      "  2%|▏         | 2/117 [00:00<00:10, 10.83it/s]"
     ]
    },
    {
     "name": "stdout",
     "output_type": "stream",
     "text": [
      "Epoch 42 of 200\n",
      "Generator loss: 3.14605522, Discriminator loss: 0.49122164\n"
     ]
    },
    {
     "name": "stderr",
     "output_type": "stream",
     "text": [
      "118it [00:09, 11.95it/s]                         \n",
      "  2%|▏         | 2/117 [00:00<00:10, 11.27it/s]"
     ]
    },
    {
     "name": "stdout",
     "output_type": "stream",
     "text": [
      "Epoch 43 of 200\n",
      "Generator loss: 3.08171177, Discriminator loss: 0.49692252\n"
     ]
    },
    {
     "name": "stderr",
     "output_type": "stream",
     "text": [
      "118it [00:09, 11.85it/s]                         \n",
      "  2%|▏         | 2/117 [00:00<00:09, 11.52it/s]"
     ]
    },
    {
     "name": "stdout",
     "output_type": "stream",
     "text": [
      "Epoch 44 of 200\n",
      "Generator loss: 3.16348004, Discriminator loss: 0.45392969\n"
     ]
    },
    {
     "name": "stderr",
     "output_type": "stream",
     "text": [
      "118it [00:09, 11.99it/s]                         \n",
      "  2%|▏         | 2/117 [00:00<00:10, 11.19it/s]"
     ]
    },
    {
     "name": "stdout",
     "output_type": "stream",
     "text": [
      "Epoch 45 of 200\n",
      "Generator loss: 2.95431662, Discriminator loss: 0.54982525\n"
     ]
    },
    {
     "name": "stderr",
     "output_type": "stream",
     "text": [
      "118it [00:09, 11.99it/s]                         \n",
      "  2%|▏         | 2/117 [00:00<00:09, 11.64it/s]"
     ]
    },
    {
     "name": "stdout",
     "output_type": "stream",
     "text": [
      "Epoch 46 of 200\n",
      "Generator loss: 3.01002169, Discriminator loss: 0.52463675\n"
     ]
    },
    {
     "name": "stderr",
     "output_type": "stream",
     "text": [
      "118it [00:09, 12.81it/s]                         \n",
      "  2%|▏         | 2/117 [00:00<00:09, 12.54it/s]"
     ]
    },
    {
     "name": "stdout",
     "output_type": "stream",
     "text": [
      "Epoch 47 of 200\n",
      "Generator loss: 2.97914147, Discriminator loss: 0.50810260\n"
     ]
    },
    {
     "name": "stderr",
     "output_type": "stream",
     "text": [
      "118it [00:09, 12.19it/s]                         \n",
      "  2%|▏         | 2/117 [00:00<00:09, 12.03it/s]"
     ]
    },
    {
     "name": "stdout",
     "output_type": "stream",
     "text": [
      "Epoch 48 of 200\n",
      "Generator loss: 2.58458734, Discriminator loss: 0.62720466\n"
     ]
    },
    {
     "name": "stderr",
     "output_type": "stream",
     "text": [
      "118it [00:09, 11.85it/s]                         \n",
      "  2%|▏         | 2/117 [00:00<00:09, 12.34it/s]"
     ]
    },
    {
     "name": "stdout",
     "output_type": "stream",
     "text": [
      "Epoch 49 of 200\n",
      "Generator loss: 2.95425773, Discriminator loss: 0.55401635\n"
     ]
    },
    {
     "name": "stderr",
     "output_type": "stream",
     "text": [
      "118it [00:09, 12.03it/s]                         \n",
      "  2%|▏         | 2/117 [00:00<00:07, 14.40it/s]"
     ]
    },
    {
     "name": "stdout",
     "output_type": "stream",
     "text": [
      "Epoch 50 of 200\n",
      "Generator loss: 2.76424694, Discriminator loss: 0.56255043\n"
     ]
    },
    {
     "name": "stderr",
     "output_type": "stream",
     "text": [
      "118it [00:09, 11.97it/s]                         \n",
      "  2%|▏         | 2/117 [00:00<00:09, 12.04it/s]"
     ]
    },
    {
     "name": "stdout",
     "output_type": "stream",
     "text": [
      "Epoch 51 of 200\n",
      "Generator loss: 2.96535802, Discriminator loss: 0.48288003\n"
     ]
    },
    {
     "name": "stderr",
     "output_type": "stream",
     "text": [
      "118it [00:09, 12.20it/s]                         \n",
      "  2%|▏         | 2/117 [00:00<00:09, 12.55it/s]"
     ]
    },
    {
     "name": "stdout",
     "output_type": "stream",
     "text": [
      "Epoch 52 of 200\n",
      "Generator loss: 2.95336199, Discriminator loss: 0.55500031\n"
     ]
    },
    {
     "name": "stderr",
     "output_type": "stream",
     "text": [
      "118it [00:09, 12.47it/s]                         \n",
      "  2%|▏         | 2/117 [00:00<00:09, 12.06it/s]"
     ]
    },
    {
     "name": "stdout",
     "output_type": "stream",
     "text": [
      "Epoch 53 of 200\n",
      "Generator loss: 2.86315274, Discriminator loss: 0.53913438\n"
     ]
    },
    {
     "name": "stderr",
     "output_type": "stream",
     "text": [
      "118it [00:09, 12.45it/s]                         \n",
      "  2%|▏         | 2/117 [00:00<00:09, 12.51it/s]"
     ]
    },
    {
     "name": "stdout",
     "output_type": "stream",
     "text": [
      "Epoch 54 of 200\n",
      "Generator loss: 2.79919839, Discriminator loss: 0.50263166\n"
     ]
    },
    {
     "name": "stderr",
     "output_type": "stream",
     "text": [
      "118it [00:09, 12.54it/s]                         \n",
      "  2%|▏         | 2/117 [00:00<00:09, 12.12it/s]"
     ]
    },
    {
     "name": "stdout",
     "output_type": "stream",
     "text": [
      "Epoch 55 of 200\n",
      "Generator loss: 2.73214459, Discriminator loss: 0.56224114\n"
     ]
    },
    {
     "name": "stderr",
     "output_type": "stream",
     "text": [
      "118it [00:09, 12.53it/s]                         \n",
      "  2%|▏         | 2/117 [00:00<00:09, 12.17it/s]"
     ]
    },
    {
     "name": "stdout",
     "output_type": "stream",
     "text": [
      "Epoch 56 of 200\n",
      "Generator loss: 2.73908734, Discriminator loss: 0.53162086\n"
     ]
    },
    {
     "name": "stderr",
     "output_type": "stream",
     "text": [
      "118it [00:09, 12.50it/s]                         \n",
      "  2%|▏         | 2/117 [00:00<00:09, 12.18it/s]"
     ]
    },
    {
     "name": "stdout",
     "output_type": "stream",
     "text": [
      "Epoch 57 of 200\n",
      "Generator loss: 2.82068467, Discriminator loss: 0.51260149\n"
     ]
    },
    {
     "name": "stderr",
     "output_type": "stream",
     "text": [
      "118it [00:09, 12.54it/s]                         \n",
      "  2%|▏         | 2/117 [00:00<00:09, 12.37it/s]"
     ]
    },
    {
     "name": "stdout",
     "output_type": "stream",
     "text": [
      "Epoch 58 of 200\n",
      "Generator loss: 2.67556071, Discriminator loss: 0.61821067\n"
     ]
    },
    {
     "name": "stderr",
     "output_type": "stream",
     "text": [
      "118it [00:08, 13.38it/s]                         \n",
      "  2%|▏         | 2/117 [00:00<00:07, 14.40it/s]"
     ]
    },
    {
     "name": "stdout",
     "output_type": "stream",
     "text": [
      "Epoch 59 of 200\n",
      "Generator loss: 2.42273760, Discriminator loss: 0.65970546\n"
     ]
    },
    {
     "name": "stderr",
     "output_type": "stream",
     "text": [
      "118it [00:08, 14.07it/s]                         \n",
      "  2%|▏         | 2/117 [00:00<00:08, 14.12it/s]"
     ]
    },
    {
     "name": "stdout",
     "output_type": "stream",
     "text": [
      "Epoch 60 of 200\n",
      "Generator loss: 2.36493564, Discriminator loss: 0.67297649\n"
     ]
    },
    {
     "name": "stderr",
     "output_type": "stream",
     "text": [
      "118it [00:08, 14.62it/s]                         \n",
      "  2%|▏         | 2/117 [00:00<00:08, 14.01it/s]"
     ]
    },
    {
     "name": "stdout",
     "output_type": "stream",
     "text": [
      "Epoch 61 of 200\n",
      "Generator loss: 2.41777444, Discriminator loss: 0.64763552\n"
     ]
    },
    {
     "name": "stderr",
     "output_type": "stream",
     "text": [
      "118it [00:08, 14.51it/s]                         \n",
      "  2%|▏         | 2/117 [00:00<00:08, 13.91it/s]"
     ]
    },
    {
     "name": "stdout",
     "output_type": "stream",
     "text": [
      "Epoch 62 of 200\n",
      "Generator loss: 2.57084894, Discriminator loss: 0.60628647\n"
     ]
    },
    {
     "name": "stderr",
     "output_type": "stream",
     "text": [
      "118it [00:08, 14.18it/s]                         \n",
      "  2%|▏         | 2/117 [00:00<00:09, 12.11it/s]"
     ]
    },
    {
     "name": "stdout",
     "output_type": "stream",
     "text": [
      "Epoch 63 of 200\n",
      "Generator loss: 2.55193877, Discriminator loss: 0.59740674\n"
     ]
    },
    {
     "name": "stderr",
     "output_type": "stream",
     "text": [
      "118it [00:09, 12.42it/s]                         \n",
      "  2%|▏         | 2/117 [00:00<00:09, 12.32it/s]"
     ]
    },
    {
     "name": "stdout",
     "output_type": "stream",
     "text": [
      "Epoch 64 of 200\n",
      "Generator loss: 2.60202169, Discriminator loss: 0.55295956\n"
     ]
    },
    {
     "name": "stderr",
     "output_type": "stream",
     "text": [
      "118it [00:09, 12.43it/s]                         \n",
      "  2%|▏         | 2/117 [00:00<00:09, 12.22it/s]"
     ]
    },
    {
     "name": "stdout",
     "output_type": "stream",
     "text": [
      "Epoch 65 of 200\n",
      "Generator loss: 2.55403137, Discriminator loss: 0.59468794\n"
     ]
    },
    {
     "name": "stderr",
     "output_type": "stream",
     "text": [
      "118it [00:08, 13.27it/s]                         \n",
      "  2%|▏         | 2/117 [00:00<00:07, 14.64it/s]"
     ]
    },
    {
     "name": "stdout",
     "output_type": "stream",
     "text": [
      "Epoch 66 of 200\n",
      "Generator loss: 2.56074691, Discriminator loss: 0.59788454\n"
     ]
    },
    {
     "name": "stderr",
     "output_type": "stream",
     "text": [
      "118it [00:08, 14.48it/s]                         \n",
      "  2%|▏         | 2/117 [00:00<00:08, 13.63it/s]"
     ]
    },
    {
     "name": "stdout",
     "output_type": "stream",
     "text": [
      "Epoch 67 of 200\n",
      "Generator loss: 2.48005009, Discriminator loss: 0.64104521\n"
     ]
    },
    {
     "name": "stderr",
     "output_type": "stream",
     "text": [
      "118it [00:08, 14.61it/s]                         \n",
      "  2%|▏         | 2/117 [00:00<00:08, 14.09it/s]"
     ]
    },
    {
     "name": "stdout",
     "output_type": "stream",
     "text": [
      "Epoch 68 of 200\n",
      "Generator loss: 2.46123147, Discriminator loss: 0.64541262\n"
     ]
    },
    {
     "name": "stderr",
     "output_type": "stream",
     "text": [
      "118it [00:08, 14.56it/s]                         \n",
      "  2%|▏         | 2/117 [00:00<00:07, 14.45it/s]"
     ]
    },
    {
     "name": "stdout",
     "output_type": "stream",
     "text": [
      "Epoch 69 of 200\n",
      "Generator loss: 2.48200393, Discriminator loss: 0.62597609\n"
     ]
    },
    {
     "name": "stderr",
     "output_type": "stream",
     "text": [
      "118it [00:08, 14.56it/s]                         \n",
      "  2%|▏         | 2/117 [00:00<00:07, 14.67it/s]"
     ]
    },
    {
     "name": "stdout",
     "output_type": "stream",
     "text": [
      "Epoch 70 of 200\n",
      "Generator loss: 2.41369200, Discriminator loss: 0.63445508\n"
     ]
    },
    {
     "name": "stderr",
     "output_type": "stream",
     "text": [
      "118it [00:08, 13.58it/s]                         \n",
      "  2%|▏         | 2/117 [00:00<00:09, 12.32it/s]"
     ]
    },
    {
     "name": "stdout",
     "output_type": "stream",
     "text": [
      "Epoch 71 of 200\n",
      "Generator loss: 2.46314764, Discriminator loss: 0.60730761\n"
     ]
    },
    {
     "name": "stderr",
     "output_type": "stream",
     "text": [
      "118it [00:09, 12.37it/s]                         \n",
      "  2%|▏         | 2/117 [00:00<00:09, 12.21it/s]"
     ]
    },
    {
     "name": "stdout",
     "output_type": "stream",
     "text": [
      "Epoch 72 of 200\n",
      "Generator loss: 2.38201594, Discriminator loss: 0.64503902\n"
     ]
    },
    {
     "name": "stderr",
     "output_type": "stream",
     "text": [
      "118it [00:09, 12.33it/s]                         \n",
      "  2%|▏         | 2/117 [00:00<00:09, 12.32it/s]"
     ]
    },
    {
     "name": "stdout",
     "output_type": "stream",
     "text": [
      "Epoch 73 of 200\n",
      "Generator loss: 2.28692222, Discriminator loss: 0.72348374\n"
     ]
    },
    {
     "name": "stderr",
     "output_type": "stream",
     "text": [
      "118it [00:09, 12.39it/s]                         \n",
      "  2%|▏         | 2/117 [00:00<00:09, 12.04it/s]"
     ]
    },
    {
     "name": "stdout",
     "output_type": "stream",
     "text": [
      "Epoch 74 of 200\n",
      "Generator loss: 2.24757218, Discriminator loss: 0.68950146\n"
     ]
    },
    {
     "name": "stderr",
     "output_type": "stream",
     "text": [
      "118it [00:09, 12.39it/s]                         \n",
      "  2%|▏         | 2/117 [00:00<00:09, 12.46it/s]"
     ]
    },
    {
     "name": "stdout",
     "output_type": "stream",
     "text": [
      "Epoch 75 of 200\n",
      "Generator loss: 2.29638553, Discriminator loss: 0.64159662\n"
     ]
    },
    {
     "name": "stderr",
     "output_type": "stream",
     "text": [
      "118it [00:08, 13.11it/s]                         \n",
      "  2%|▏         | 2/117 [00:00<00:09, 12.06it/s]"
     ]
    },
    {
     "name": "stdout",
     "output_type": "stream",
     "text": [
      "Epoch 76 of 200\n",
      "Generator loss: 2.42682481, Discriminator loss: 0.66188806\n"
     ]
    },
    {
     "name": "stderr",
     "output_type": "stream",
     "text": [
      "118it [00:09, 12.31it/s]                         \n",
      "  2%|▏         | 2/117 [00:00<00:09, 12.50it/s]"
     ]
    },
    {
     "name": "stdout",
     "output_type": "stream",
     "text": [
      "Epoch 77 of 200\n",
      "Generator loss: 2.24986553, Discriminator loss: 0.69452417\n"
     ]
    },
    {
     "name": "stderr",
     "output_type": "stream",
     "text": [
      "118it [00:09, 12.51it/s]                         \n",
      "  2%|▏         | 2/117 [00:00<00:09, 12.57it/s]"
     ]
    },
    {
     "name": "stdout",
     "output_type": "stream",
     "text": [
      "Epoch 78 of 200\n",
      "Generator loss: 2.33108068, Discriminator loss: 0.66828275\n"
     ]
    },
    {
     "name": "stderr",
     "output_type": "stream",
     "text": [
      "118it [00:09, 12.39it/s]                         \n",
      "  2%|▏         | 2/117 [00:00<00:09, 12.46it/s]"
     ]
    },
    {
     "name": "stdout",
     "output_type": "stream",
     "text": [
      "Epoch 79 of 200\n",
      "Generator loss: 2.28016901, Discriminator loss: 0.69692671\n"
     ]
    },
    {
     "name": "stderr",
     "output_type": "stream",
     "text": [
      "118it [00:09, 12.33it/s]                         \n",
      "  2%|▏         | 2/117 [00:00<00:09, 12.58it/s]"
     ]
    },
    {
     "name": "stdout",
     "output_type": "stream",
     "text": [
      "Epoch 80 of 200\n",
      "Generator loss: 2.16275215, Discriminator loss: 0.71284491\n"
     ]
    },
    {
     "name": "stderr",
     "output_type": "stream",
     "text": [
      "118it [00:09, 12.34it/s]                         \n",
      "  2%|▏         | 2/117 [00:00<00:09, 11.95it/s]"
     ]
    },
    {
     "name": "stdout",
     "output_type": "stream",
     "text": [
      "Epoch 81 of 200\n",
      "Generator loss: 2.21764445, Discriminator loss: 0.69971734\n"
     ]
    },
    {
     "name": "stderr",
     "output_type": "stream",
     "text": [
      "118it [00:09, 12.39it/s]                         \n",
      "  2%|▏         | 2/117 [00:00<00:09, 12.17it/s]"
     ]
    },
    {
     "name": "stdout",
     "output_type": "stream",
     "text": [
      "Epoch 82 of 200\n",
      "Generator loss: 2.25051641, Discriminator loss: 0.67678535\n"
     ]
    },
    {
     "name": "stderr",
     "output_type": "stream",
     "text": [
      "118it [00:08, 14.10it/s]                         \n",
      "  2%|▏         | 2/117 [00:00<00:07, 14.44it/s]"
     ]
    },
    {
     "name": "stdout",
     "output_type": "stream",
     "text": [
      "Epoch 83 of 200\n",
      "Generator loss: 2.33597040, Discriminator loss: 0.66600609\n"
     ]
    },
    {
     "name": "stderr",
     "output_type": "stream",
     "text": [
      "118it [00:08, 13.68it/s]                         \n",
      "  2%|▏         | 2/117 [00:00<00:09, 12.32it/s]"
     ]
    },
    {
     "name": "stdout",
     "output_type": "stream",
     "text": [
      "Epoch 84 of 200\n",
      "Generator loss: 2.26536822, Discriminator loss: 0.68498278\n"
     ]
    },
    {
     "name": "stderr",
     "output_type": "stream",
     "text": [
      "118it [00:09, 12.30it/s]                         \n",
      "  2%|▏         | 2/117 [00:00<00:09, 12.35it/s]"
     ]
    },
    {
     "name": "stdout",
     "output_type": "stream",
     "text": [
      "Epoch 85 of 200\n",
      "Generator loss: 2.17062497, Discriminator loss: 0.72923267\n"
     ]
    },
    {
     "name": "stderr",
     "output_type": "stream",
     "text": [
      "118it [00:09, 12.50it/s]                         \n",
      "  2%|▏         | 2/117 [00:00<00:09, 12.19it/s]"
     ]
    },
    {
     "name": "stdout",
     "output_type": "stream",
     "text": [
      "Epoch 86 of 200\n",
      "Generator loss: 2.21794915, Discriminator loss: 0.73885781\n"
     ]
    },
    {
     "name": "stderr",
     "output_type": "stream",
     "text": [
      "118it [00:09, 12.36it/s]                         \n",
      "  2%|▏         | 2/117 [00:00<00:09, 12.44it/s]"
     ]
    },
    {
     "name": "stdout",
     "output_type": "stream",
     "text": [
      "Epoch 87 of 200\n",
      "Generator loss: 1.98035669, Discriminator loss: 0.78721178\n"
     ]
    },
    {
     "name": "stderr",
     "output_type": "stream",
     "text": [
      "118it [00:09, 12.43it/s]                         \n",
      "  2%|▏         | 2/117 [00:00<00:09, 12.05it/s]"
     ]
    },
    {
     "name": "stdout",
     "output_type": "stream",
     "text": [
      "Epoch 88 of 200\n",
      "Generator loss: 2.01194644, Discriminator loss: 0.78361231\n"
     ]
    },
    {
     "name": "stderr",
     "output_type": "stream",
     "text": [
      "118it [00:09, 12.42it/s]                         \n",
      "  2%|▏         | 2/117 [00:00<00:09, 12.23it/s]"
     ]
    },
    {
     "name": "stdout",
     "output_type": "stream",
     "text": [
      "Epoch 89 of 200\n",
      "Generator loss: 2.01362967, Discriminator loss: 0.77789468\n"
     ]
    },
    {
     "name": "stderr",
     "output_type": "stream",
     "text": [
      "118it [00:09, 12.48it/s]                         \n",
      "  2%|▏         | 2/117 [00:00<00:09, 12.18it/s]"
     ]
    },
    {
     "name": "stdout",
     "output_type": "stream",
     "text": [
      "Epoch 90 of 200\n",
      "Generator loss: 2.05029893, Discriminator loss: 0.78664982\n"
     ]
    },
    {
     "name": "stderr",
     "output_type": "stream",
     "text": [
      "118it [00:09, 12.47it/s]                         \n",
      "  2%|▏         | 2/117 [00:00<00:09, 12.21it/s]"
     ]
    },
    {
     "name": "stdout",
     "output_type": "stream",
     "text": [
      "Epoch 91 of 200\n",
      "Generator loss: 1.90731192, Discriminator loss: 0.81712013\n"
     ]
    },
    {
     "name": "stderr",
     "output_type": "stream",
     "text": [
      "118it [00:09, 12.56it/s]                         \n",
      "  2%|▏         | 2/117 [00:00<00:09, 11.91it/s]"
     ]
    },
    {
     "name": "stdout",
     "output_type": "stream",
     "text": [
      "Epoch 92 of 200\n",
      "Generator loss: 1.99035513, Discriminator loss: 0.76432043\n"
     ]
    },
    {
     "name": "stderr",
     "output_type": "stream",
     "text": [
      "118it [00:08, 13.42it/s]                         \n",
      "  2%|▏         | 2/117 [00:00<00:08, 13.90it/s]"
     ]
    },
    {
     "name": "stdout",
     "output_type": "stream",
     "text": [
      "Epoch 93 of 200\n",
      "Generator loss: 2.15308142, Discriminator loss: 0.73098946\n"
     ]
    },
    {
     "name": "stderr",
     "output_type": "stream",
     "text": [
      "118it [00:08, 14.40it/s]                         \n",
      "  2%|▏         | 2/117 [00:00<00:08, 14.26it/s]"
     ]
    },
    {
     "name": "stdout",
     "output_type": "stream",
     "text": [
      "Epoch 94 of 200\n",
      "Generator loss: 2.17366314, Discriminator loss: 0.71884125\n"
     ]
    },
    {
     "name": "stderr",
     "output_type": "stream",
     "text": [
      "118it [00:08, 14.49it/s]                         \n",
      "  2%|▏         | 2/117 [00:00<00:07, 14.43it/s]"
     ]
    },
    {
     "name": "stdout",
     "output_type": "stream",
     "text": [
      "Epoch 95 of 200\n",
      "Generator loss: 2.09991002, Discriminator loss: 0.75313795\n"
     ]
    },
    {
     "name": "stderr",
     "output_type": "stream",
     "text": [
      "118it [00:08, 14.52it/s]                         \n",
      "  2%|▏         | 2/117 [00:00<00:08, 14.21it/s]"
     ]
    },
    {
     "name": "stdout",
     "output_type": "stream",
     "text": [
      "Epoch 96 of 200\n",
      "Generator loss: 1.98825288, Discriminator loss: 0.78335416\n"
     ]
    },
    {
     "name": "stderr",
     "output_type": "stream",
     "text": [
      "118it [00:08, 14.55it/s]                         \n",
      "  2%|▏         | 2/117 [00:00<00:07, 14.39it/s]"
     ]
    },
    {
     "name": "stdout",
     "output_type": "stream",
     "text": [
      "Epoch 97 of 200\n",
      "Generator loss: 1.92498958, Discriminator loss: 0.80736017\n"
     ]
    },
    {
     "name": "stderr",
     "output_type": "stream",
     "text": [
      "118it [00:08, 14.50it/s]                         \n",
      "  2%|▏         | 2/117 [00:00<00:08, 14.10it/s]"
     ]
    },
    {
     "name": "stdout",
     "output_type": "stream",
     "text": [
      "Epoch 98 of 200\n",
      "Generator loss: 1.94187307, Discriminator loss: 0.79221869\n"
     ]
    },
    {
     "name": "stderr",
     "output_type": "stream",
     "text": [
      "118it [00:08, 14.38it/s]                         \n",
      "  2%|▏         | 2/117 [00:00<00:07, 14.39it/s]"
     ]
    },
    {
     "name": "stdout",
     "output_type": "stream",
     "text": [
      "Epoch 99 of 200\n",
      "Generator loss: 1.97978580, Discriminator loss: 0.77648240\n"
     ]
    },
    {
     "name": "stderr",
     "output_type": "stream",
     "text": [
      "118it [00:08, 14.30it/s]                         \n",
      "  2%|▏         | 2/117 [00:00<00:08, 14.00it/s]"
     ]
    },
    {
     "name": "stdout",
     "output_type": "stream",
     "text": [
      "Epoch 100 of 200\n",
      "Generator loss: 1.87248373, Discriminator loss: 0.82454222\n"
     ]
    },
    {
     "name": "stderr",
     "output_type": "stream",
     "text": [
      "118it [00:08, 14.44it/s]                         \n",
      "  2%|▏         | 2/117 [00:00<00:08, 13.87it/s]"
     ]
    },
    {
     "name": "stdout",
     "output_type": "stream",
     "text": [
      "Epoch 101 of 200\n",
      "Generator loss: 1.88585067, Discriminator loss: 0.81196386\n"
     ]
    },
    {
     "name": "stderr",
     "output_type": "stream",
     "text": [
      "118it [00:08, 14.53it/s]                         \n",
      "  2%|▏         | 2/117 [00:00<00:07, 14.41it/s]"
     ]
    },
    {
     "name": "stdout",
     "output_type": "stream",
     "text": [
      "Epoch 102 of 200\n",
      "Generator loss: 1.95450020, Discriminator loss: 0.81362045\n"
     ]
    },
    {
     "name": "stderr",
     "output_type": "stream",
     "text": [
      "118it [00:08, 14.50it/s]                         \n",
      "  2%|▏         | 2/117 [00:00<00:08, 14.23it/s]"
     ]
    },
    {
     "name": "stdout",
     "output_type": "stream",
     "text": [
      "Epoch 103 of 200\n",
      "Generator loss: 1.97828591, Discriminator loss: 0.77629483\n"
     ]
    },
    {
     "name": "stderr",
     "output_type": "stream",
     "text": [
      "118it [00:08, 14.33it/s]                         \n",
      "  2%|▏         | 2/117 [00:00<00:08, 14.37it/s]"
     ]
    },
    {
     "name": "stdout",
     "output_type": "stream",
     "text": [
      "Epoch 104 of 200\n",
      "Generator loss: 1.94940364, Discriminator loss: 0.78843009\n"
     ]
    },
    {
     "name": "stderr",
     "output_type": "stream",
     "text": [
      "118it [00:08, 14.46it/s]                         \n",
      "  2%|▏         | 2/117 [00:00<00:08, 13.90it/s]"
     ]
    },
    {
     "name": "stdout",
     "output_type": "stream",
     "text": [
      "Epoch 105 of 200\n",
      "Generator loss: 2.09388614, Discriminator loss: 0.76131332\n"
     ]
    },
    {
     "name": "stderr",
     "output_type": "stream",
     "text": [
      "118it [00:08, 14.47it/s]                         \n",
      "  2%|▏         | 2/117 [00:00<00:08, 14.15it/s]"
     ]
    },
    {
     "name": "stdout",
     "output_type": "stream",
     "text": [
      "Epoch 106 of 200\n",
      "Generator loss: 2.07308984, Discriminator loss: 0.76554018\n"
     ]
    },
    {
     "name": "stderr",
     "output_type": "stream",
     "text": [
      "118it [00:08, 13.69it/s]                         \n",
      "  2%|▏         | 2/117 [00:00<00:09, 12.42it/s]"
     ]
    },
    {
     "name": "stdout",
     "output_type": "stream",
     "text": [
      "Epoch 107 of 200\n",
      "Generator loss: 1.98118627, Discriminator loss: 0.78126770\n"
     ]
    },
    {
     "name": "stderr",
     "output_type": "stream",
     "text": [
      "118it [00:09, 12.31it/s]                         \n",
      "  2%|▏         | 2/117 [00:00<00:09, 12.37it/s]"
     ]
    },
    {
     "name": "stdout",
     "output_type": "stream",
     "text": [
      "Epoch 108 of 200\n",
      "Generator loss: 1.95963621, Discriminator loss: 0.79229754\n"
     ]
    },
    {
     "name": "stderr",
     "output_type": "stream",
     "text": [
      "118it [00:09, 12.45it/s]                         \n",
      "  2%|▏         | 2/117 [00:00<00:09, 12.52it/s]"
     ]
    },
    {
     "name": "stdout",
     "output_type": "stream",
     "text": [
      "Epoch 109 of 200\n",
      "Generator loss: 1.92681336, Discriminator loss: 0.82276779\n"
     ]
    },
    {
     "name": "stderr",
     "output_type": "stream",
     "text": [
      "118it [00:09, 12.41it/s]                         \n",
      "  2%|▏         | 2/117 [00:00<00:09, 12.57it/s]"
     ]
    },
    {
     "name": "stdout",
     "output_type": "stream",
     "text": [
      "Epoch 110 of 200\n",
      "Generator loss: 1.86362541, Discriminator loss: 0.82034540\n"
     ]
    },
    {
     "name": "stderr",
     "output_type": "stream",
     "text": [
      "118it [00:09, 12.31it/s]                         \n",
      "  2%|▏         | 2/117 [00:00<00:09, 12.40it/s]"
     ]
    },
    {
     "name": "stdout",
     "output_type": "stream",
     "text": [
      "Epoch 111 of 200\n",
      "Generator loss: 1.90335262, Discriminator loss: 0.80307573\n"
     ]
    },
    {
     "name": "stderr",
     "output_type": "stream",
     "text": [
      "118it [00:09, 12.35it/s]                         \n",
      "  2%|▏         | 2/117 [00:00<00:09, 12.45it/s]"
     ]
    },
    {
     "name": "stdout",
     "output_type": "stream",
     "text": [
      "Epoch 112 of 200\n",
      "Generator loss: 1.96871316, Discriminator loss: 0.82626700\n"
     ]
    },
    {
     "name": "stderr",
     "output_type": "stream",
     "text": [
      "118it [00:09, 12.24it/s]                         \n",
      "  2%|▏         | 2/117 [00:00<00:09, 12.17it/s]"
     ]
    },
    {
     "name": "stdout",
     "output_type": "stream",
     "text": [
      "Epoch 113 of 200\n",
      "Generator loss: 1.94446540, Discriminator loss: 0.81233603\n"
     ]
    },
    {
     "name": "stderr",
     "output_type": "stream",
     "text": [
      "118it [00:09, 12.16it/s]                         \n",
      "  2%|▏         | 2/117 [00:00<00:09, 12.03it/s]"
     ]
    },
    {
     "name": "stdout",
     "output_type": "stream",
     "text": [
      "Epoch 114 of 200\n",
      "Generator loss: 1.88440335, Discriminator loss: 0.80713433\n"
     ]
    },
    {
     "name": "stderr",
     "output_type": "stream",
     "text": [
      "118it [00:09, 12.21it/s]                         \n",
      "  2%|▏         | 2/117 [00:00<00:09, 12.09it/s]"
     ]
    },
    {
     "name": "stdout",
     "output_type": "stream",
     "text": [
      "Epoch 115 of 200\n",
      "Generator loss: 1.99708998, Discriminator loss: 0.80116808\n"
     ]
    },
    {
     "name": "stderr",
     "output_type": "stream",
     "text": [
      "118it [00:09, 12.13it/s]                         \n",
      "  2%|▏         | 2/117 [00:00<00:09, 12.31it/s]"
     ]
    },
    {
     "name": "stdout",
     "output_type": "stream",
     "text": [
      "Epoch 116 of 200\n",
      "Generator loss: 1.90811861, Discriminator loss: 0.82547534\n"
     ]
    },
    {
     "name": "stderr",
     "output_type": "stream",
     "text": [
      "118it [00:09, 12.20it/s]                         \n",
      "  2%|▏         | 2/117 [00:00<00:09, 12.00it/s]"
     ]
    },
    {
     "name": "stdout",
     "output_type": "stream",
     "text": [
      "Epoch 117 of 200\n",
      "Generator loss: 1.91077638, Discriminator loss: 0.82080895\n"
     ]
    },
    {
     "name": "stderr",
     "output_type": "stream",
     "text": [
      "118it [00:09, 12.25it/s]                         \n",
      "  2%|▏         | 2/117 [00:00<00:09, 12.14it/s]"
     ]
    },
    {
     "name": "stdout",
     "output_type": "stream",
     "text": [
      "Epoch 118 of 200\n",
      "Generator loss: 1.79783154, Discriminator loss: 0.85968548\n"
     ]
    },
    {
     "name": "stderr",
     "output_type": "stream",
     "text": [
      "118it [00:09, 12.20it/s]                         \n",
      "  2%|▏         | 2/117 [00:00<00:09, 12.13it/s]"
     ]
    },
    {
     "name": "stdout",
     "output_type": "stream",
     "text": [
      "Epoch 119 of 200\n",
      "Generator loss: 1.80271077, Discriminator loss: 0.88031060\n"
     ]
    },
    {
     "name": "stderr",
     "output_type": "stream",
     "text": [
      "118it [00:09, 12.15it/s]                         \n",
      "  2%|▏         | 2/117 [00:00<00:09, 12.11it/s]"
     ]
    },
    {
     "name": "stdout",
     "output_type": "stream",
     "text": [
      "Epoch 120 of 200\n",
      "Generator loss: 1.79654944, Discriminator loss: 0.84645331\n"
     ]
    },
    {
     "name": "stderr",
     "output_type": "stream",
     "text": [
      "118it [00:09, 12.22it/s]                         \n",
      "  2%|▏         | 2/117 [00:00<00:09, 11.98it/s]"
     ]
    },
    {
     "name": "stdout",
     "output_type": "stream",
     "text": [
      "Epoch 121 of 200\n",
      "Generator loss: 1.75792396, Discriminator loss: 0.87469560\n"
     ]
    },
    {
     "name": "stderr",
     "output_type": "stream",
     "text": [
      "118it [00:09, 12.33it/s]                         \n",
      "  2%|▏         | 2/117 [00:00<00:09, 12.09it/s]"
     ]
    },
    {
     "name": "stdout",
     "output_type": "stream",
     "text": [
      "Epoch 122 of 200\n",
      "Generator loss: 1.76170552, Discriminator loss: 0.87222171\n"
     ]
    },
    {
     "name": "stderr",
     "output_type": "stream",
     "text": [
      "118it [00:09, 12.27it/s]                         \n",
      "  2%|▏         | 2/117 [00:00<00:09, 12.12it/s]"
     ]
    },
    {
     "name": "stdout",
     "output_type": "stream",
     "text": [
      "Epoch 123 of 200\n",
      "Generator loss: 1.75762999, Discriminator loss: 0.85362083\n"
     ]
    },
    {
     "name": "stderr",
     "output_type": "stream",
     "text": [
      "118it [00:09, 12.31it/s]                         \n",
      "  2%|▏         | 2/117 [00:00<00:09, 12.38it/s]"
     ]
    },
    {
     "name": "stdout",
     "output_type": "stream",
     "text": [
      "Epoch 124 of 200\n",
      "Generator loss: 1.69223940, Discriminator loss: 0.87585330\n"
     ]
    },
    {
     "name": "stderr",
     "output_type": "stream",
     "text": [
      "118it [00:09, 12.27it/s]                         \n",
      "  2%|▏         | 2/117 [00:00<00:09, 12.41it/s]"
     ]
    },
    {
     "name": "stdout",
     "output_type": "stream",
     "text": [
      "Epoch 125 of 200\n",
      "Generator loss: 1.73492765, Discriminator loss: 0.87511510\n"
     ]
    },
    {
     "name": "stderr",
     "output_type": "stream",
     "text": [
      "118it [00:08, 13.54it/s]                         \n",
      "  2%|▏         | 2/117 [00:00<00:08, 13.94it/s]"
     ]
    },
    {
     "name": "stdout",
     "output_type": "stream",
     "text": [
      "Epoch 126 of 200\n",
      "Generator loss: 1.73803926, Discriminator loss: 0.87565839\n"
     ]
    },
    {
     "name": "stderr",
     "output_type": "stream",
     "text": [
      "118it [00:08, 14.41it/s]                         \n",
      "  2%|▏         | 2/117 [00:00<00:07, 14.40it/s]"
     ]
    },
    {
     "name": "stdout",
     "output_type": "stream",
     "text": [
      "Epoch 127 of 200\n",
      "Generator loss: 1.68291318, Discriminator loss: 0.90743691\n"
     ]
    },
    {
     "name": "stderr",
     "output_type": "stream",
     "text": [
      "118it [00:08, 14.21it/s]                         \n",
      "  2%|▏         | 2/117 [00:00<00:08, 14.31it/s]"
     ]
    },
    {
     "name": "stdout",
     "output_type": "stream",
     "text": [
      "Epoch 128 of 200\n",
      "Generator loss: 1.57972932, Discriminator loss: 0.94026041\n"
     ]
    },
    {
     "name": "stderr",
     "output_type": "stream",
     "text": [
      "118it [00:08, 14.33it/s]                         \n",
      "  2%|▏         | 2/117 [00:00<00:07, 14.43it/s]"
     ]
    },
    {
     "name": "stdout",
     "output_type": "stream",
     "text": [
      "Epoch 129 of 200\n",
      "Generator loss: 1.67685151, Discriminator loss: 0.89856809\n"
     ]
    },
    {
     "name": "stderr",
     "output_type": "stream",
     "text": [
      "118it [00:08, 14.23it/s]                         \n",
      "  2%|▏         | 2/117 [00:00<00:10, 11.43it/s]"
     ]
    },
    {
     "name": "stdout",
     "output_type": "stream",
     "text": [
      "Epoch 130 of 200\n",
      "Generator loss: 1.67988217, Discriminator loss: 0.92143762\n"
     ]
    },
    {
     "name": "stderr",
     "output_type": "stream",
     "text": [
      "118it [00:08, 14.01it/s]                         \n",
      "  2%|▏         | 2/117 [00:00<00:08, 14.04it/s]"
     ]
    },
    {
     "name": "stdout",
     "output_type": "stream",
     "text": [
      "Epoch 131 of 200\n",
      "Generator loss: 1.60992062, Discriminator loss: 0.92917925\n"
     ]
    },
    {
     "name": "stderr",
     "output_type": "stream",
     "text": [
      "118it [00:08, 14.32it/s]                         \n",
      "  2%|▏         | 2/117 [00:00<00:08, 14.09it/s]"
     ]
    },
    {
     "name": "stdout",
     "output_type": "stream",
     "text": [
      "Epoch 132 of 200\n",
      "Generator loss: 1.65665126, Discriminator loss: 0.91829818\n"
     ]
    },
    {
     "name": "stderr",
     "output_type": "stream",
     "text": [
      "118it [00:08, 14.02it/s]                         \n",
      "  2%|▏         | 2/117 [00:00<00:07, 14.40it/s]"
     ]
    },
    {
     "name": "stdout",
     "output_type": "stream",
     "text": [
      "Epoch 133 of 200\n",
      "Generator loss: 1.65414035, Discriminator loss: 0.89108032\n"
     ]
    },
    {
     "name": "stderr",
     "output_type": "stream",
     "text": [
      "118it [00:08, 14.40it/s]                         \n",
      "  2%|▏         | 2/117 [00:00<00:08, 14.24it/s]"
     ]
    },
    {
     "name": "stdout",
     "output_type": "stream",
     "text": [
      "Epoch 134 of 200\n",
      "Generator loss: 1.62641180, Discriminator loss: 0.89846271\n"
     ]
    },
    {
     "name": "stderr",
     "output_type": "stream",
     "text": [
      "118it [00:08, 14.38it/s]                         \n",
      "  2%|▏         | 2/117 [00:00<00:07, 14.44it/s]"
     ]
    },
    {
     "name": "stdout",
     "output_type": "stream",
     "text": [
      "Epoch 135 of 200\n",
      "Generator loss: 1.67381620, Discriminator loss: 0.93099445\n"
     ]
    },
    {
     "name": "stderr",
     "output_type": "stream",
     "text": [
      "118it [00:08, 14.22it/s]                         \n",
      "  2%|▏         | 2/117 [00:00<00:08, 14.05it/s]"
     ]
    },
    {
     "name": "stdout",
     "output_type": "stream",
     "text": [
      "Epoch 136 of 200\n",
      "Generator loss: 1.54182351, Discriminator loss: 0.93991601\n"
     ]
    },
    {
     "name": "stderr",
     "output_type": "stream",
     "text": [
      "118it [00:08, 14.31it/s]                         \n",
      "  2%|▏         | 2/117 [00:00<00:08, 14.06it/s]"
     ]
    },
    {
     "name": "stdout",
     "output_type": "stream",
     "text": [
      "Epoch 137 of 200\n",
      "Generator loss: 1.63019180, Discriminator loss: 0.92188799\n"
     ]
    },
    {
     "name": "stderr",
     "output_type": "stream",
     "text": [
      "118it [00:08, 14.28it/s]                         \n",
      "  2%|▏         | 2/117 [00:00<00:08, 14.28it/s]"
     ]
    },
    {
     "name": "stdout",
     "output_type": "stream",
     "text": [
      "Epoch 138 of 200\n",
      "Generator loss: 1.64358819, Discriminator loss: 0.94093519\n"
     ]
    },
    {
     "name": "stderr",
     "output_type": "stream",
     "text": [
      "118it [00:08, 14.36it/s]                         \n",
      "  2%|▏         | 2/117 [00:00<00:07, 14.42it/s]"
     ]
    },
    {
     "name": "stdout",
     "output_type": "stream",
     "text": [
      "Epoch 139 of 200\n",
      "Generator loss: 1.53644168, Discriminator loss: 0.94189823\n"
     ]
    },
    {
     "name": "stderr",
     "output_type": "stream",
     "text": [
      "118it [00:08, 14.21it/s]                         \n",
      "  2%|▏         | 2/117 [00:00<00:08, 14.37it/s]"
     ]
    },
    {
     "name": "stdout",
     "output_type": "stream",
     "text": [
      "Epoch 140 of 200\n",
      "Generator loss: 1.64573479, Discriminator loss: 0.95718777\n"
     ]
    },
    {
     "name": "stderr",
     "output_type": "stream",
     "text": [
      "118it [00:08, 14.22it/s]                         \n",
      "  2%|▏         | 2/117 [00:00<00:08, 14.27it/s]"
     ]
    },
    {
     "name": "stdout",
     "output_type": "stream",
     "text": [
      "Epoch 141 of 200\n",
      "Generator loss: 1.58914745, Discriminator loss: 0.94677943\n"
     ]
    },
    {
     "name": "stderr",
     "output_type": "stream",
     "text": [
      "118it [00:08, 14.31it/s]                         \n",
      "  2%|▏         | 2/117 [00:00<00:07, 14.58it/s]"
     ]
    },
    {
     "name": "stdout",
     "output_type": "stream",
     "text": [
      "Epoch 142 of 200\n",
      "Generator loss: 1.58030868, Discriminator loss: 0.95702714\n"
     ]
    },
    {
     "name": "stderr",
     "output_type": "stream",
     "text": [
      "118it [00:08, 14.29it/s]                         \n",
      "  2%|▏         | 2/117 [00:00<00:08, 14.18it/s]"
     ]
    },
    {
     "name": "stdout",
     "output_type": "stream",
     "text": [
      "Epoch 143 of 200\n",
      "Generator loss: 1.56149614, Discriminator loss: 0.94456482\n"
     ]
    },
    {
     "name": "stderr",
     "output_type": "stream",
     "text": [
      "118it [00:08, 14.26it/s]                         \n",
      "  2%|▏         | 2/117 [00:00<00:08, 14.37it/s]"
     ]
    },
    {
     "name": "stdout",
     "output_type": "stream",
     "text": [
      "Epoch 144 of 200\n",
      "Generator loss: 1.57734013, Discriminator loss: 0.95291042\n"
     ]
    },
    {
     "name": "stderr",
     "output_type": "stream",
     "text": [
      "118it [00:08, 14.36it/s]                         \n",
      "  2%|▏         | 2/117 [00:00<00:07, 14.41it/s]"
     ]
    },
    {
     "name": "stdout",
     "output_type": "stream",
     "text": [
      "Epoch 145 of 200\n",
      "Generator loss: 1.46666706, Discriminator loss: 0.98464668\n"
     ]
    },
    {
     "name": "stderr",
     "output_type": "stream",
     "text": [
      "118it [00:08, 14.36it/s]                         \n",
      "  2%|▏         | 2/117 [00:00<00:08, 14.33it/s]"
     ]
    },
    {
     "name": "stdout",
     "output_type": "stream",
     "text": [
      "Epoch 146 of 200\n",
      "Generator loss: 1.51301968, Discriminator loss: 0.97135836\n"
     ]
    },
    {
     "name": "stderr",
     "output_type": "stream",
     "text": [
      "118it [00:08, 14.26it/s]                         \n",
      "  2%|▏         | 2/117 [00:00<00:09, 12.56it/s]"
     ]
    },
    {
     "name": "stdout",
     "output_type": "stream",
     "text": [
      "Epoch 147 of 200\n",
      "Generator loss: 1.45751560, Discriminator loss: 1.00115311\n"
     ]
    },
    {
     "name": "stderr",
     "output_type": "stream",
     "text": [
      "118it [00:08, 14.13it/s]                         \n",
      "  2%|▏         | 2/117 [00:00<00:08, 14.30it/s]"
     ]
    },
    {
     "name": "stdout",
     "output_type": "stream",
     "text": [
      "Epoch 148 of 200\n",
      "Generator loss: 1.43177450, Discriminator loss: 0.99136740\n"
     ]
    },
    {
     "name": "stderr",
     "output_type": "stream",
     "text": [
      "118it [00:08, 14.40it/s]                         \n",
      "  2%|▏         | 2/117 [00:00<00:08, 13.97it/s]"
     ]
    },
    {
     "name": "stdout",
     "output_type": "stream",
     "text": [
      "Epoch 149 of 200\n",
      "Generator loss: 1.49203598, Discriminator loss: 0.97539383\n"
     ]
    },
    {
     "name": "stderr",
     "output_type": "stream",
     "text": [
      "118it [00:08, 14.50it/s]                         \n",
      "  2%|▏         | 2/117 [00:00<00:07, 14.46it/s]"
     ]
    },
    {
     "name": "stdout",
     "output_type": "stream",
     "text": [
      "Epoch 150 of 200\n",
      "Generator loss: 1.51652908, Discriminator loss: 0.98656702\n"
     ]
    },
    {
     "name": "stderr",
     "output_type": "stream",
     "text": [
      "118it [00:09, 12.57it/s]                         \n",
      "  2%|▏         | 2/117 [00:00<00:09, 12.14it/s]"
     ]
    },
    {
     "name": "stdout",
     "output_type": "stream",
     "text": [
      "Epoch 151 of 200\n",
      "Generator loss: 1.47002852, Discriminator loss: 0.99208021\n"
     ]
    },
    {
     "name": "stderr",
     "output_type": "stream",
     "text": [
      "118it [00:09, 12.56it/s]                         \n",
      "  2%|▏         | 2/117 [00:00<00:09, 11.78it/s]"
     ]
    },
    {
     "name": "stdout",
     "output_type": "stream",
     "text": [
      "Epoch 152 of 200\n",
      "Generator loss: 1.47463906, Discriminator loss: 0.96874630\n"
     ]
    },
    {
     "name": "stderr",
     "output_type": "stream",
     "text": [
      "118it [00:09, 12.05it/s]                         \n",
      "  2%|▏         | 2/117 [00:00<00:09, 12.08it/s]"
     ]
    },
    {
     "name": "stdout",
     "output_type": "stream",
     "text": [
      "Epoch 153 of 200\n",
      "Generator loss: 1.48000872, Discriminator loss: 0.98832345\n"
     ]
    },
    {
     "name": "stderr",
     "output_type": "stream",
     "text": [
      "118it [00:09, 12.14it/s]                         \n",
      "  2%|▏         | 2/117 [00:00<00:09, 11.97it/s]"
     ]
    },
    {
     "name": "stdout",
     "output_type": "stream",
     "text": [
      "Epoch 154 of 200\n",
      "Generator loss: 1.48937690, Discriminator loss: 1.01235664\n"
     ]
    },
    {
     "name": "stderr",
     "output_type": "stream",
     "text": [
      "118it [00:09, 12.20it/s]                         \n",
      "  2%|▏         | 2/117 [00:00<00:09, 11.89it/s]"
     ]
    },
    {
     "name": "stdout",
     "output_type": "stream",
     "text": [
      "Epoch 155 of 200\n",
      "Generator loss: 1.43352509, Discriminator loss: 0.99847567\n"
     ]
    },
    {
     "name": "stderr",
     "output_type": "stream",
     "text": [
      "118it [00:09, 12.20it/s]                         \n",
      "  2%|▏         | 2/117 [00:00<00:09, 11.99it/s]"
     ]
    },
    {
     "name": "stdout",
     "output_type": "stream",
     "text": [
      "Epoch 156 of 200\n",
      "Generator loss: 1.47856402, Discriminator loss: 0.98362797\n"
     ]
    },
    {
     "name": "stderr",
     "output_type": "stream",
     "text": [
      "118it [00:09, 12.25it/s]                         \n",
      "  2%|▏         | 2/117 [00:00<00:09, 12.18it/s]"
     ]
    },
    {
     "name": "stdout",
     "output_type": "stream",
     "text": [
      "Epoch 157 of 200\n",
      "Generator loss: 1.48150480, Discriminator loss: 0.99614477\n"
     ]
    },
    {
     "name": "stderr",
     "output_type": "stream",
     "text": [
      "118it [00:09, 12.18it/s]                         \n",
      "  2%|▏         | 2/117 [00:00<00:09, 12.11it/s]"
     ]
    },
    {
     "name": "stdout",
     "output_type": "stream",
     "text": [
      "Epoch 158 of 200\n",
      "Generator loss: 1.46102858, Discriminator loss: 1.00270355\n"
     ]
    },
    {
     "name": "stderr",
     "output_type": "stream",
     "text": [
      "118it [00:09, 12.23it/s]                         \n",
      "  2%|▏         | 2/117 [00:00<00:09, 12.08it/s]"
     ]
    },
    {
     "name": "stdout",
     "output_type": "stream",
     "text": [
      "Epoch 159 of 200\n",
      "Generator loss: 1.39857852, Discriminator loss: 1.00630188\n"
     ]
    },
    {
     "name": "stderr",
     "output_type": "stream",
     "text": [
      "118it [00:09, 12.16it/s]                         \n",
      "  2%|▏         | 2/117 [00:00<00:09, 12.21it/s]"
     ]
    },
    {
     "name": "stdout",
     "output_type": "stream",
     "text": [
      "Epoch 160 of 200\n",
      "Generator loss: 1.48176074, Discriminator loss: 0.99153888\n"
     ]
    },
    {
     "name": "stderr",
     "output_type": "stream",
     "text": [
      "118it [00:09, 12.23it/s]                         \n",
      "  2%|▏         | 2/117 [00:00<00:09, 12.26it/s]"
     ]
    },
    {
     "name": "stdout",
     "output_type": "stream",
     "text": [
      "Epoch 161 of 200\n",
      "Generator loss: 1.46134615, Discriminator loss: 0.99193376\n"
     ]
    },
    {
     "name": "stderr",
     "output_type": "stream",
     "text": [
      "118it [00:09, 12.44it/s]                         \n",
      "  2%|▏         | 2/117 [00:00<00:09, 12.21it/s]"
     ]
    },
    {
     "name": "stdout",
     "output_type": "stream",
     "text": [
      "Epoch 162 of 200\n",
      "Generator loss: 1.45686388, Discriminator loss: 1.00748205\n"
     ]
    },
    {
     "name": "stderr",
     "output_type": "stream",
     "text": [
      "118it [00:09, 12.17it/s]                         \n",
      "  2%|▏         | 2/117 [00:00<00:09, 12.38it/s]"
     ]
    },
    {
     "name": "stdout",
     "output_type": "stream",
     "text": [
      "Epoch 163 of 200\n",
      "Generator loss: 1.47304189, Discriminator loss: 0.99077499\n"
     ]
    },
    {
     "name": "stderr",
     "output_type": "stream",
     "text": [
      "118it [00:09, 12.23it/s]                         \n",
      "  2%|▏         | 2/117 [00:00<00:09, 12.04it/s]"
     ]
    },
    {
     "name": "stdout",
     "output_type": "stream",
     "text": [
      "Epoch 164 of 200\n",
      "Generator loss: 1.48205268, Discriminator loss: 0.99047565\n"
     ]
    },
    {
     "name": "stderr",
     "output_type": "stream",
     "text": [
      "118it [00:09, 12.23it/s]                         \n",
      "  2%|▏         | 2/117 [00:00<00:09, 11.95it/s]"
     ]
    },
    {
     "name": "stdout",
     "output_type": "stream",
     "text": [
      "Epoch 165 of 200\n",
      "Generator loss: 1.55546653, Discriminator loss: 0.99399376\n"
     ]
    },
    {
     "name": "stderr",
     "output_type": "stream",
     "text": [
      "118it [00:09, 12.23it/s]                         \n",
      "  2%|▏         | 2/117 [00:00<00:09, 12.13it/s]"
     ]
    },
    {
     "name": "stdout",
     "output_type": "stream",
     "text": [
      "Epoch 166 of 200\n",
      "Generator loss: 1.43580925, Discriminator loss: 0.99407977\n"
     ]
    },
    {
     "name": "stderr",
     "output_type": "stream",
     "text": [
      "118it [00:09, 12.19it/s]                         \n",
      "  2%|▏         | 2/117 [00:00<00:09, 12.30it/s]"
     ]
    },
    {
     "name": "stdout",
     "output_type": "stream",
     "text": [
      "Epoch 167 of 200\n",
      "Generator loss: 1.47033083, Discriminator loss: 0.99606746\n"
     ]
    },
    {
     "name": "stderr",
     "output_type": "stream",
     "text": [
      "118it [00:08, 13.87it/s]                         \n",
      "  2%|▏         | 2/117 [00:00<00:09, 12.51it/s]"
     ]
    },
    {
     "name": "stdout",
     "output_type": "stream",
     "text": [
      "Epoch 168 of 200\n",
      "Generator loss: 1.50580120, Discriminator loss: 0.98268658\n"
     ]
    },
    {
     "name": "stderr",
     "output_type": "stream",
     "text": [
      "118it [00:09, 12.21it/s]                         \n",
      "  2%|▏         | 2/117 [00:00<00:09, 11.98it/s]"
     ]
    },
    {
     "name": "stdout",
     "output_type": "stream",
     "text": [
      "Epoch 169 of 200\n",
      "Generator loss: 1.52529085, Discriminator loss: 0.95427305\n"
     ]
    },
    {
     "name": "stderr",
     "output_type": "stream",
     "text": [
      "118it [00:09, 12.23it/s]                         \n",
      "  2%|▏         | 2/117 [00:00<00:09, 11.94it/s]"
     ]
    },
    {
     "name": "stdout",
     "output_type": "stream",
     "text": [
      "Epoch 170 of 200\n",
      "Generator loss: 1.52224970, Discriminator loss: 0.96099746\n"
     ]
    },
    {
     "name": "stderr",
     "output_type": "stream",
     "text": [
      "118it [00:08, 13.80it/s]                         \n",
      "  2%|▏         | 2/117 [00:00<00:08, 13.81it/s]"
     ]
    },
    {
     "name": "stdout",
     "output_type": "stream",
     "text": [
      "Epoch 171 of 200\n",
      "Generator loss: 1.45872855, Discriminator loss: 0.98916459\n"
     ]
    },
    {
     "name": "stderr",
     "output_type": "stream",
     "text": [
      "118it [00:08, 14.25it/s]                         \n",
      "  2%|▏         | 2/117 [00:00<00:08, 14.21it/s]"
     ]
    },
    {
     "name": "stdout",
     "output_type": "stream",
     "text": [
      "Epoch 172 of 200\n",
      "Generator loss: 1.41563869, Discriminator loss: 1.00841653\n"
     ]
    },
    {
     "name": "stderr",
     "output_type": "stream",
     "text": [
      "118it [00:08, 13.76it/s]                         \n",
      "  2%|▏         | 2/117 [00:00<00:09, 12.26it/s]"
     ]
    },
    {
     "name": "stdout",
     "output_type": "stream",
     "text": [
      "Epoch 173 of 200\n",
      "Generator loss: 1.39791620, Discriminator loss: 1.00745034\n"
     ]
    },
    {
     "name": "stderr",
     "output_type": "stream",
     "text": [
      "118it [00:09, 12.15it/s]                         \n",
      "  2%|▏         | 2/117 [00:00<00:09, 12.19it/s]"
     ]
    },
    {
     "name": "stdout",
     "output_type": "stream",
     "text": [
      "Epoch 174 of 200\n",
      "Generator loss: 1.44741833, Discriminator loss: 1.02836311\n"
     ]
    },
    {
     "name": "stderr",
     "output_type": "stream",
     "text": [
      "118it [00:09, 12.21it/s]                         \n",
      "  2%|▏         | 2/117 [00:00<00:09, 12.18it/s]"
     ]
    },
    {
     "name": "stdout",
     "output_type": "stream",
     "text": [
      "Epoch 175 of 200\n",
      "Generator loss: 1.41800857, Discriminator loss: 1.02469373\n"
     ]
    },
    {
     "name": "stderr",
     "output_type": "stream",
     "text": [
      "118it [00:09, 12.17it/s]                         \n",
      "  2%|▏         | 2/117 [00:00<00:09, 12.05it/s]"
     ]
    },
    {
     "name": "stdout",
     "output_type": "stream",
     "text": [
      "Epoch 176 of 200\n",
      "Generator loss: 1.40113115, Discriminator loss: 0.99294966\n"
     ]
    },
    {
     "name": "stderr",
     "output_type": "stream",
     "text": [
      "118it [00:09, 12.24it/s]                         \n",
      "  2%|▏         | 2/117 [00:00<00:09, 12.47it/s]"
     ]
    },
    {
     "name": "stdout",
     "output_type": "stream",
     "text": [
      "Epoch 177 of 200\n",
      "Generator loss: 1.40344727, Discriminator loss: 1.02447438\n"
     ]
    },
    {
     "name": "stderr",
     "output_type": "stream",
     "text": [
      "118it [00:09, 12.12it/s]                         \n",
      "  2%|▏         | 2/117 [00:00<00:09, 12.30it/s]"
     ]
    },
    {
     "name": "stdout",
     "output_type": "stream",
     "text": [
      "Epoch 178 of 200\n",
      "Generator loss: 1.36859357, Discriminator loss: 1.03317034\n"
     ]
    },
    {
     "name": "stderr",
     "output_type": "stream",
     "text": [
      "118it [00:09, 12.08it/s]                         \n",
      "  2%|▏         | 2/117 [00:00<00:09, 12.33it/s]"
     ]
    },
    {
     "name": "stdout",
     "output_type": "stream",
     "text": [
      "Epoch 179 of 200\n",
      "Generator loss: 1.37008512, Discriminator loss: 1.05171955\n"
     ]
    },
    {
     "name": "stderr",
     "output_type": "stream",
     "text": [
      "118it [00:09, 12.23it/s]                         \n",
      "  2%|▏         | 2/117 [00:00<00:09, 12.30it/s]"
     ]
    },
    {
     "name": "stdout",
     "output_type": "stream",
     "text": [
      "Epoch 180 of 200\n",
      "Generator loss: 1.32140028, Discriminator loss: 1.05193806\n"
     ]
    },
    {
     "name": "stderr",
     "output_type": "stream",
     "text": [
      "118it [00:09, 12.15it/s]                         \n",
      "  2%|▏         | 2/117 [00:00<00:09, 11.85it/s]"
     ]
    },
    {
     "name": "stdout",
     "output_type": "stream",
     "text": [
      "Epoch 181 of 200\n",
      "Generator loss: 1.33570480, Discriminator loss: 1.05776393\n"
     ]
    },
    {
     "name": "stderr",
     "output_type": "stream",
     "text": [
      "118it [00:09, 12.23it/s]                         \n",
      "  2%|▏         | 2/117 [00:00<00:09, 12.24it/s]"
     ]
    },
    {
     "name": "stdout",
     "output_type": "stream",
     "text": [
      "Epoch 182 of 200\n",
      "Generator loss: 1.36166680, Discriminator loss: 1.04605484\n"
     ]
    },
    {
     "name": "stderr",
     "output_type": "stream",
     "text": [
      "118it [00:09, 12.21it/s]                         \n",
      "  2%|▏         | 2/117 [00:00<00:09, 11.98it/s]"
     ]
    },
    {
     "name": "stdout",
     "output_type": "stream",
     "text": [
      "Epoch 183 of 200\n",
      "Generator loss: 1.30795777, Discriminator loss: 1.06777704\n"
     ]
    },
    {
     "name": "stderr",
     "output_type": "stream",
     "text": [
      "118it [00:09, 12.22it/s]                         \n",
      "  2%|▏         | 2/117 [00:00<00:09, 12.10it/s]"
     ]
    },
    {
     "name": "stdout",
     "output_type": "stream",
     "text": [
      "Epoch 184 of 200\n",
      "Generator loss: 1.31172657, Discriminator loss: 1.06671166\n"
     ]
    },
    {
     "name": "stderr",
     "output_type": "stream",
     "text": [
      "118it [00:09, 12.19it/s]                         \n",
      "  2%|▏         | 2/117 [00:00<00:09, 12.19it/s]"
     ]
    },
    {
     "name": "stdout",
     "output_type": "stream",
     "text": [
      "Epoch 185 of 200\n",
      "Generator loss: 1.39055896, Discriminator loss: 1.03863072\n"
     ]
    },
    {
     "name": "stderr",
     "output_type": "stream",
     "text": [
      "118it [00:09, 11.97it/s]                         \n",
      "  2%|▏         | 2/117 [00:00<00:09, 12.32it/s]"
     ]
    },
    {
     "name": "stdout",
     "output_type": "stream",
     "text": [
      "Epoch 186 of 200\n",
      "Generator loss: 1.37430060, Discriminator loss: 1.03715754\n"
     ]
    },
    {
     "name": "stderr",
     "output_type": "stream",
     "text": [
      "118it [00:09, 12.16it/s]                         \n",
      "  2%|▏         | 2/117 [00:00<00:09, 12.57it/s]"
     ]
    },
    {
     "name": "stdout",
     "output_type": "stream",
     "text": [
      "Epoch 187 of 200\n",
      "Generator loss: 1.34398615, Discriminator loss: 1.06919754\n"
     ]
    },
    {
     "name": "stderr",
     "output_type": "stream",
     "text": [
      "118it [00:09, 12.27it/s]                         \n",
      "  0%|          | 0/117 [00:00<?, ?it/s]"
     ]
    },
    {
     "name": "stdout",
     "output_type": "stream",
     "text": [
      "Epoch 188 of 200\n",
      "Generator loss: 1.31011426, Discriminator loss: 1.06228411\n"
     ]
    },
    {
     "name": "stderr",
     "output_type": "stream",
     "text": [
      "118it [00:09, 12.08it/s]                         \n",
      "  2%|▏         | 2/117 [00:00<00:09, 12.33it/s]"
     ]
    },
    {
     "name": "stdout",
     "output_type": "stream",
     "text": [
      "Epoch 189 of 200\n",
      "Generator loss: 1.36426485, Discriminator loss: 1.03219700\n"
     ]
    },
    {
     "name": "stderr",
     "output_type": "stream",
     "text": [
      "118it [00:09, 12.15it/s]                         \n",
      "  2%|▏         | 2/117 [00:00<00:09, 12.38it/s]"
     ]
    },
    {
     "name": "stdout",
     "output_type": "stream",
     "text": [
      "Epoch 190 of 200\n",
      "Generator loss: 1.34886789, Discriminator loss: 1.04091561\n"
     ]
    },
    {
     "name": "stderr",
     "output_type": "stream",
     "text": [
      "118it [00:09, 12.19it/s]                         \n",
      "  2%|▏         | 2/117 [00:00<00:09, 11.89it/s]"
     ]
    },
    {
     "name": "stdout",
     "output_type": "stream",
     "text": [
      "Epoch 191 of 200\n",
      "Generator loss: 1.27183914, Discriminator loss: 1.08459711\n"
     ]
    },
    {
     "name": "stderr",
     "output_type": "stream",
     "text": [
      "118it [00:09, 12.12it/s]                         \n",
      "  2%|▏         | 2/117 [00:00<00:09, 12.12it/s]"
     ]
    },
    {
     "name": "stdout",
     "output_type": "stream",
     "text": [
      "Epoch 192 of 200\n",
      "Generator loss: 1.32434726, Discriminator loss: 1.06029928\n"
     ]
    },
    {
     "name": "stderr",
     "output_type": "stream",
     "text": [
      "118it [00:09, 12.22it/s]                         \n",
      "  2%|▏         | 2/117 [00:00<00:10, 11.08it/s]"
     ]
    },
    {
     "name": "stdout",
     "output_type": "stream",
     "text": [
      "Epoch 193 of 200\n",
      "Generator loss: 1.28436649, Discriminator loss: 1.08507943\n"
     ]
    },
    {
     "name": "stderr",
     "output_type": "stream",
     "text": [
      "118it [00:11,  9.92it/s]                         \n",
      "  2%|▏         | 2/117 [00:00<00:10, 10.85it/s]"
     ]
    },
    {
     "name": "stdout",
     "output_type": "stream",
     "text": [
      "Epoch 194 of 200\n",
      "Generator loss: 1.28243411, Discriminator loss: 1.05965781\n"
     ]
    },
    {
     "name": "stderr",
     "output_type": "stream",
     "text": [
      "118it [00:12,  9.38it/s]                         \n",
      "  2%|▏         | 2/117 [00:00<00:09, 12.33it/s]"
     ]
    },
    {
     "name": "stdout",
     "output_type": "stream",
     "text": [
      "Epoch 195 of 200\n",
      "Generator loss: 1.35494697, Discriminator loss: 1.05658078\n"
     ]
    },
    {
     "name": "stderr",
     "output_type": "stream",
     "text": [
      "118it [00:10, 11.79it/s]                         \n",
      "  0%|          | 0/117 [00:00<?, ?it/s]"
     ]
    },
    {
     "name": "stdout",
     "output_type": "stream",
     "text": [
      "Epoch 196 of 200\n",
      "Generator loss: 1.29082441, Discriminator loss: 1.07134497\n"
     ]
    },
    {
     "name": "stderr",
     "output_type": "stream",
     "text": [
      "118it [00:11, 10.17it/s]                         \n",
      "  1%|          | 1/117 [00:00<00:11,  9.98it/s]"
     ]
    },
    {
     "name": "stdout",
     "output_type": "stream",
     "text": [
      "Epoch 197 of 200\n",
      "Generator loss: 1.29459262, Discriminator loss: 1.07686520\n"
     ]
    },
    {
     "name": "stderr",
     "output_type": "stream",
     "text": [
      "118it [00:11, 10.09it/s]                         \n",
      "  2%|▏         | 2/117 [00:00<00:09, 11.79it/s]"
     ]
    },
    {
     "name": "stdout",
     "output_type": "stream",
     "text": [
      "Epoch 198 of 200\n",
      "Generator loss: 1.30772769, Discriminator loss: 1.07055008\n"
     ]
    },
    {
     "name": "stderr",
     "output_type": "stream",
     "text": [
      "118it [00:11, 10.24it/s]                         \n"
     ]
    },
    {
     "name": "stdout",
     "output_type": "stream",
     "text": [
      "Epoch 199 of 200\n",
      "Generator loss: 1.32667756, Discriminator loss: 1.05774224\n"
     ]
    }
   ],
   "source": [
    "for epoch in range(epochs):\n",
    "    loss_g = 0.0\n",
    "    loss_d = 0.0\n",
    "    for bi, data in tqdm(enumerate(train_loader), total=int(len(train_data)/train_loader.batch_size)):\n",
    "        image, _ = data\n",
    "        image = image.to(device)\n",
    "        b_size = len(image)\n",
    "        # run the discriminator for k number of steps\n",
    "        for step in range(k):\n",
    "            data_fake = generator(create_noise(b_size, nz)).detach()\n",
    "            data_real = image\n",
    "            # train the discriminator network\n",
    "            loss_d += train_discriminator(optim_d, data_real, data_fake)\n",
    "        data_fake = generator(create_noise(b_size, nz))\n",
    "        # train the generator network\n",
    "        loss_g += train_generator(optim_g, data_fake)\n",
    "    # create the final fake image for the epoch\n",
    "    generated_img = generator(noise).cpu().detach()\n",
    "    # make the images as grid\n",
    "    generated_img = make_grid(generated_img)\n",
    "    # save the generated torch tensor models to disk\n",
    "    save_generator_image(generated_img, f\"../../data/gan/gen_img{epoch}.png\")\n",
    "    images.append(generated_img)\n",
    "    epoch_loss_g = loss_g / bi # total generator loss for the epoch\n",
    "    epoch_loss_d = loss_d / bi # total discriminator loss for the epoch\n",
    "    losses_g.append(epoch_loss_g)\n",
    "    losses_d.append(epoch_loss_d)\n",
    "    \n",
    "    print(f\"Epoch {epoch} of {epochs}\")\n",
    "    print(f\"Generator loss: {epoch_loss_g:.8f}, Discriminator loss: {epoch_loss_d:.8f}\")"
   ]
  },
  {
   "cell_type": "code",
   "execution_count": null,
   "metadata": {},
   "outputs": [],
   "source": []
  }
 ],
 "metadata": {
  "kernelspec": {
   "display_name": "Python 3",
   "language": "python",
   "name": "python3"
  },
  "language_info": {
   "codemirror_mode": {
    "name": "ipython",
    "version": 3
   },
   "file_extension": ".py",
   "mimetype": "text/x-python",
   "name": "python",
   "nbconvert_exporter": "python",
   "pygments_lexer": "ipython3",
   "version": "3.8.5"
  }
 },
 "nbformat": 4,
 "nbformat_minor": 4
}
