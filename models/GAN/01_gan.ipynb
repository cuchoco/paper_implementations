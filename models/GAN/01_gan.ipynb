{
 "cells": [
  {
   "cell_type": "code",
   "execution_count": 1,
   "metadata": {},
   "outputs": [
    {
     "data": {
      "text/plain": [
       "<torch._C.Generator at 0x7fc77e55d530>"
      ]
     },
     "execution_count": 1,
     "metadata": {},
     "output_type": "execute_result"
    }
   ],
   "source": [
    "import os\n",
    "import numpy as np\n",
    "import math\n",
    "\n",
    "from torchvision import transforms\n",
    "from torchvision import datasets\n",
    "from torch.utils.data import DataLoader\n",
    "from torchvision.utils import save_image\n",
    "\n",
    "import torch.nn as nn\n",
    "import torch.nn.functional as F\n",
    "import torch\n",
    "\n",
    "os.environ[\"CUDA_DEVICE_ORDER\"]=\"PCI_BUS_ID\"\n",
    "os.environ[\"CUDA_VISIBLE_DEVICES\"] = '2'\n",
    "\n",
    "torch.manual_seed(10)"
   ]
  },
  {
   "cell_type": "code",
   "execution_count": 2,
   "metadata": {},
   "outputs": [],
   "source": [
    "# Configure data loader\n",
    "os.makedirs(\"../../data/mnist\", exist_ok=True)\n",
    "dataloader = torch.utils.data.DataLoader(\n",
    "    datasets.MNIST(\n",
    "        \"../../data/mnist\",\n",
    "        train=True,\n",
    "        download=True,\n",
    "        transform=transforms.Compose(\n",
    "            [transforms.Resize(28), transforms.ToTensor(), transforms.Normalize([0.5], [0.5])]\n",
    "        ),\n",
    "    ),\n",
    "    batch_size=512,\n",
    "    shuffle=True,\n",
    ")"
   ]
  },
  {
   "cell_type": "code",
   "execution_count": 3,
   "metadata": {},
   "outputs": [],
   "source": [
    "class Generator(nn.Module): \n",
    "    def __init__(self):\n",
    "        super().__init__()\n",
    "        \n",
    "        channels, img_size = 1, 28\n",
    "        latent_dim = 100\n",
    "        self.image_shape = (channels, img_size, img_size)\n",
    "        \n",
    "        def block(in_feat, out_feat, normalize=True):\n",
    "            layers = [nn.Linear(in_feat, out_feat)]\n",
    "            if normalize:\n",
    "                layers.append(nn.BatchNorm1d(out_feat, 0.8))\n",
    "            layers.append(nn.LeakyReLU(0.2, inplace=True))\n",
    "            return layers\n",
    "        \n",
    "        self.model = nn.Sequential(\n",
    "            *block(latent_dim, 128, normalize=False),   # * means unpacking (list, tuple)\n",
    "            *block(128, 256),\n",
    "            *block(256, 512),\n",
    "            *block(512, 1024),\n",
    "            nn.Linear(1024, np.prod(self.image_shape)),   # 784\n",
    "            nn.Tanh()\n",
    "        )\n",
    "    \n",
    "    def forward(self, x):\n",
    "        img = self.model(x)\n",
    "        img = img.view(img.size(0), *self.image_shape)\n",
    "        return img\n",
    "    \n",
    "    "
   ]
  },
  {
   "cell_type": "code",
   "execution_count": 4,
   "metadata": {},
   "outputs": [],
   "source": [
    "class Discriminator(nn.Module):\n",
    "    def __init__(self):\n",
    "        super(Discriminator, self).__init__()\n",
    "\n",
    "        self.model = nn.Sequential(\n",
    "            nn.Linear(784, 512),\n",
    "            nn.LeakyReLU(0.2, inplace=True),\n",
    "            nn.Linear(512, 256),\n",
    "            nn.LeakyReLU(0.2, inplace=True),\n",
    "            nn.Linear(256, 1),\n",
    "            nn.Sigmoid(),\n",
    "        )\n",
    "\n",
    "    def forward(self, img):\n",
    "        img_flat = img.view(img.size(0), -1)\n",
    "        validity = self.model(img_flat)\n",
    "\n",
    "        return validity"
   ]
  },
  {
   "cell_type": "code",
   "execution_count": 5,
   "metadata": {},
   "outputs": [],
   "source": [
    "cuda = True if torch.cuda.is_available() else False\n",
    "n_epochs = 128\n",
    "lr = 0.0002\n",
    "b1 = 0.5\n",
    "b2 = 0.999\n",
    "\n",
    "\n",
    "G = Generator()\n",
    "D = Discriminator()\n",
    "\n",
    "loss_function = nn.BCELoss()\n",
    "\n",
    "\n",
    "if cuda:\n",
    "    G.cuda()\n",
    "    D.cuda()\n",
    "    device = torch.device('cuda')\n",
    "    \n",
    "optim_G = torch.optim.Adam(G.parameters(), lr=lr, betas=(b1, b2))\n",
    "optim_D = torch.optim.Adam(D.parameters(), lr=lr, betas=(b1, b2))\n"
   ]
  },
  {
   "cell_type": "code",
   "execution_count": null,
   "metadata": {
    "scrolled": true,
    "tags": []
   },
   "outputs": [
    {
     "name": "stdout",
     "output_type": "stream",
     "text": [
      "[Epoch 0/128] [Batch 0/118] [D loss: 0.654661] [G loss: 0.693346]\n",
      "[Epoch 0/128] [Batch 100/118] [D loss: 0.474566] [G loss: 0.819877]\n",
      "[Epoch 1/128] [Batch 0/118] [D loss: 0.551927] [G loss: 0.705024]\n",
      "[Epoch 1/128] [Batch 100/118] [D loss: 0.502806] [G loss: 0.672970]\n",
      "[Epoch 2/128] [Batch 0/118] [D loss: 0.420660] [G loss: 0.897984]\n",
      "[Epoch 2/128] [Batch 100/118] [D loss: 0.483977] [G loss: 0.663058]\n",
      "[Epoch 3/128] [Batch 0/118] [D loss: 0.587980] [G loss: 0.496331]\n",
      "[Epoch 3/128] [Batch 100/118] [D loss: 0.567325] [G loss: 0.634318]\n",
      "[Epoch 4/128] [Batch 0/118] [D loss: 0.481992] [G loss: 0.710637]\n",
      "[Epoch 4/128] [Batch 100/118] [D loss: 0.509074] [G loss: 1.401447]\n",
      "[Epoch 5/128] [Batch 0/118] [D loss: 0.539858] [G loss: 0.732140]\n",
      "[Epoch 5/128] [Batch 100/118] [D loss: 0.649973] [G loss: 0.417167]\n",
      "[Epoch 6/128] [Batch 0/118] [D loss: 0.429105] [G loss: 1.194613]\n",
      "[Epoch 6/128] [Batch 100/118] [D loss: 0.612132] [G loss: 0.394393]\n",
      "[Epoch 7/128] [Batch 0/118] [D loss: 0.455231] [G loss: 0.707881]\n",
      "[Epoch 7/128] [Batch 100/118] [D loss: 0.754164] [G loss: 0.285561]\n",
      "[Epoch 8/128] [Batch 0/118] [D loss: 0.363252] [G loss: 1.084188]\n",
      "[Epoch 8/128] [Batch 100/118] [D loss: 0.468964] [G loss: 0.756895]\n",
      "[Epoch 9/128] [Batch 0/118] [D loss: 0.257631] [G loss: 1.931879]\n",
      "[Epoch 9/128] [Batch 100/118] [D loss: 0.435445] [G loss: 0.801311]\n",
      "[Epoch 10/128] [Batch 0/118] [D loss: 0.532541] [G loss: 0.535395]\n",
      "[Epoch 10/128] [Batch 100/118] [D loss: 0.532103] [G loss: 1.854796]\n",
      "[Epoch 11/128] [Batch 0/118] [D loss: 0.308308] [G loss: 1.922670]\n"
     ]
    }
   ],
   "source": [
    "for epoch in range(n_epochs):\n",
    "    for i, (imgs, _) in enumerate(dataloader):\n",
    "        # Adversarial ground truths\n",
    "        valid = torch.ones(imgs.size(0),1, requires_grad=False, device=device)\n",
    "        fake = torch.zeros(imgs.size(0),1, requires_grad=False, device=device)\n",
    "        \n",
    "        real_imgs = imgs.type(torch.cuda.FloatTensor)\n",
    "        \n",
    "        # Train Generator\n",
    "        optim_G.zero_grad()\n",
    "        z = torch.randn([imgs.shape[0], 100], device=device)   # 100: latent_dim\n",
    "        gen_imgs = G(z)\n",
    "        g_loss = loss_function(D(gen_imgs), valid)   # Discriminator를 진짜라고 속이는 방향으로 학습\n",
    "        \n",
    "        g_loss.backward()\n",
    "        optim_G.step()\n",
    "        \n",
    "        # Train Discriminator\n",
    "        optim_D.zero_grad()\n",
    "        \n",
    "        real_loss = loss_function(D(real_imgs), valid)\n",
    "        fake_loss = loss_function(D(gen_imgs.detach()), fake)\n",
    "        \n",
    "        d_loss = (real_loss + fake_loss) / 2\n",
    "        d_loss.backward()\n",
    "        optim_D.step()\n",
    "        \n",
    "        if i % 100 == 0 :\n",
    "            print(\n",
    "                \"[Epoch %d/%d] [Batch %d/%d] [D loss: %f] [G loss: %f]\"\n",
    "                % (epoch, n_epochs, i, len(dataloader), d_loss.item(), g_loss.item())\n",
    "            )\n",
    "\n",
    "        batches_done = epoch * len(dataloader) + i\n",
    "        if batches_done % 1000 == 0:\n",
    "            save_image(gen_imgs.data[:25], \"../../data/gan/%d.png\" % batches_done, nrow=5, normalize=True)"
   ]
  },
  {
   "cell_type": "code",
   "execution_count": null,
   "metadata": {},
   "outputs": [],
   "source": []
  }
 ],
 "metadata": {
  "kernelspec": {
   "display_name": "Python 3",
   "language": "python",
   "name": "python3"
  },
  "language_info": {
   "codemirror_mode": {
    "name": "ipython",
    "version": 3
   },
   "file_extension": ".py",
   "mimetype": "text/x-python",
   "name": "python",
   "nbconvert_exporter": "python",
   "pygments_lexer": "ipython3",
   "version": "3.8.5"
  }
 },
 "nbformat": 4,
 "nbformat_minor": 4
}
