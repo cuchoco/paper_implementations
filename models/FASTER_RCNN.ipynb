{
 "cells": [
  {
   "cell_type": "markdown",
   "metadata": {},
   "source": [
    "1. Region Proposal network (RPN)\n",
    "2. RPN loss functions\n",
    "3. Region of Interest Pooling (ROI)\n",
    "4. ROI loss functions"
   ]
  },
  {
   "cell_type": "code",
   "execution_count": 2,
   "metadata": {},
   "outputs": [],
   "source": [
    "import torch\n",
    "import torchvision\n",
    "import torch.nn as nn\n",
    "import torch.nn.functional as F\n",
    "import numpy as np\n",
    "import itertools"
   ]
  },
  {
   "cell_type": "code",
   "execution_count": 3,
   "metadata": {},
   "outputs": [],
   "source": [
    "image = torch.zeros((1,3,800,800)).float()\n",
    "\n",
    "# [y1, x1, y2, x2]\n",
    "bbox = torch.FloatTensor([[20, 30, 400, 500], [300, 400, 500, 600]])\n",
    "labels = torch.LongTensor([6, 8])\n",
    "\n",
    "# 1x1 in feature map -> 16x16 in image\n",
    "sub_sample = 16"
   ]
  },
  {
   "cell_type": "code",
   "execution_count": 20,
   "metadata": {},
   "outputs": [
    {
     "name": "stdout",
     "output_type": "stream",
     "text": [
      "torch.Size([1, 512, 50, 50])\n"
     ]
    }
   ],
   "source": [
    "model = torchvision.models.vgg16(pretrained=True)\n",
    "fe = list(model.features)\n",
    "req_features = fe[:30]\n",
    "\n",
    "faster_rcnn_feature = nn.Sequential(*req_features)\n",
    "\n",
    "sample_output = faster_rcnn_feature(image)\n",
    "print(sample_output.shape)"
   ]
  },
  {
   "cell_type": "markdown",
   "metadata": {},
   "source": [
    "> Resion Proposal Network"
   ]
  },
  {
   "cell_type": "code",
   "execution_count": 17,
   "metadata": {},
   "outputs": [],
   "source": [
    "mid_channels = 512\n",
    "in_channels = 512\n",
    "n_anchor = 9        # Number of anchors at each location in the feature map\n",
    "\n",
    "conv1 = nn.Conv2d(in_channels, mid_channels, 3, 1, 1)\n",
    "reg_layer = nn.Conv2d(mid_channels, n_anchor*4, 1, 1, 0)\n",
    "cls_layer = nn.Conv2d(mid_channels, n_anchor*2, 1, 1, 0)"
   ]
  },
  {
   "cell_type": "code",
   "execution_count": 19,
   "metadata": {},
   "outputs": [
    {
     "data": {
      "text/plain": [
       "tensor([0., 0., 0., 0., 0., 0., 0., 0., 0., 0., 0., 0., 0., 0., 0., 0., 0., 0.])"
      ]
     },
     "execution_count": 19,
     "metadata": {},
     "output_type": "execute_result"
    }
   ],
   "source": [
    "# conv1 sliding layer\n",
    "conv1.weight.data.normal_(0, 0.01)\n",
    "conv1.bias.data.zero_()\n",
    "\n",
    "# reg_layer\n",
    "reg_layer.weight.data.normal_(0, 0.01)\n",
    "reg_layer.bias.data.zero_()\n",
    "\n",
    "# cls_layer\n",
    "cls_layer.weight.data.normal_(0, 0.01)\n",
    "cls_layer.bias.data.zero_()"
   ]
  },
  {
   "cell_type": "code",
   "execution_count": 29,
   "metadata": {},
   "outputs": [
    {
     "name": "stdout",
     "output_type": "stream",
     "text": [
      "torch.Size([1, 36, 50, 50]) torch.Size([1, 18, 50, 50])\n"
     ]
    }
   ],
   "source": [
    "x= conv1(sample_output)\n",
    "pred_anchor_locs = reg_layer(x)\n",
    "pred_cls_scores = cls_layer(x)\n",
    "\n",
    "print(pred_anchor_locs.shape, pred_cls_scores.shape)"
   ]
  },
  {
   "cell_type": "code",
   "execution_count": 30,
   "metadata": {},
   "outputs": [
    {
     "name": "stdout",
     "output_type": "stream",
     "text": [
      "torch.Size([1, 22500, 4])\n",
      "torch.Size([1, 50, 50, 18])\n",
      "torch.Size([1, 22500])\n",
      "torch.Size([1, 22500, 2])\n"
     ]
    }
   ],
   "source": [
    "pred_anchor_locs = pred_anchor_locs.permute(0, 2, 3, 1).contiguous().view(1, -1, 4)\n",
    "print(pred_anchor_locs.shape)\n",
    "\n",
    "pred_cls_scores = pred_cls_scores.permute(0, 2, 3 ,1).contiguous()\n",
    "print(pred_cls_scores.shape)\n",
    "\n",
    "objectness_scores = pred_cls_scores.view(1, 50, 50, 9, 2)[:, :, :, :, 1].contiguous().view(1, -1)\n",
    "print(objectness_scores.shape)\n",
    "\n",
    "pred_cls_scores = pred_cls_scores.view(1, -1, 2)\n",
    "print(pred_cls_scores.shape)"
   ]
  },
  {
   "cell_type": "code",
   "execution_count": null,
   "metadata": {},
   "outputs": [],
   "source": []
  },
  {
   "cell_type": "code",
   "execution_count": null,
   "metadata": {},
   "outputs": [],
   "source": []
  },
  {
   "cell_type": "markdown",
   "metadata": {},
   "source": [
    "## Anchor boxes"
   ]
  },
  {
   "cell_type": "code",
   "execution_count": 5,
   "metadata": {},
   "outputs": [
    {
     "name": "stdout",
     "output_type": "stream",
     "text": [
      "Total anchor #: 9\n"
     ]
    }
   ],
   "source": [
    "ratios = [0.5, 1, 2]\n",
    "anchor_sizes = [8, 16, 32]\n",
    "anchor_number = len(ratios) * len(anchor_sizes)\n",
    "print(f'Total anchor #: {anchor_number}')"
   ]
  },
  {
   "cell_type": "code",
   "execution_count": 6,
   "metadata": {},
   "outputs": [],
   "source": [
    "ctr_y = sub_sample / 2\n",
    "ctr_x = sub_sample / 2\n",
    "\n",
    "anchors_template = np.zeros((9,4))\n",
    "\n",
    "for i, ratio in enumerate(ratios):\n",
    "    for j, size in enumerate(anchor_sizes):\n",
    "        h = size * np.sqrt(ratio) * sub_sample\n",
    "        w = size / np.sqrt(ratio) * sub_sample\n",
    "        \n",
    "        y1 = -h/2\n",
    "        x1 = -w/2\n",
    "        y2 =  h/2\n",
    "        x2 =  w/2\n",
    "        anchor = [y1, x1, y2, x2]\n",
    "        anchors_template[i*len(ratios) + j] = anchor"
   ]
  },
  {
   "cell_type": "code",
   "execution_count": 7,
   "metadata": {},
   "outputs": [
    {
     "name": "stdout",
     "output_type": "stream",
     "text": [
      "ctr_x_all:\n",
      "[  8  24  40  56  72  88 104 120 136 152 168 184 200 216 232 248 264 280\n",
      " 296 312 328 344 360 376 392 408 424 440 456 472 488 504 520 536 552 568\n",
      " 584 600 616 632 648 664 680 696 712 728 744 760 776 792]\n",
      "ctr_all:\n",
      " [[[  8.   8.]\n",
      "  [  8.  24.]\n",
      "  [  8.  40.]\n",
      "  ...\n",
      "  [  8. 760.]\n",
      "  [  8. 776.]\n",
      "  [  8. 792.]]\n",
      "\n",
      " [[ 24.   8.]\n",
      "  [ 24.  24.]\n",
      "  [ 24.  40.]\n",
      "  ...\n",
      "  [ 24. 760.]\n",
      "  [ 24. 776.]\n",
      "  [ 24. 792.]]\n",
      "\n",
      " [[ 40.   8.]\n",
      "  [ 40.  24.]\n",
      "  [ 40.  40.]\n",
      "  ...\n",
      "  [ 40. 760.]\n",
      "  [ 40. 776.]\n",
      "  [ 40. 792.]]\n",
      "\n",
      " ...\n",
      "\n",
      " [[760.   8.]\n",
      "  [760.  24.]\n",
      "  [760.  40.]\n",
      "  ...\n",
      "  [760. 760.]\n",
      "  [760. 776.]\n",
      "  [760. 792.]]\n",
      "\n",
      " [[776.   8.]\n",
      "  [776.  24.]\n",
      "  [776.  40.]\n",
      "  ...\n",
      "  [776. 760.]\n",
      "  [776. 776.]\n",
      "  [776. 792.]]\n",
      "\n",
      " [[792.   8.]\n",
      "  [792.  24.]\n",
      "  [792.  40.]\n",
      "  ...\n",
      "  [792. 760.]\n",
      "  [792. 776.]\n",
      "  [792. 792.]]]\n"
     ]
    }
   ],
   "source": [
    "feature_map_size = 800 // 16\n",
    "ctr_x_all = np.arange(8, (feature_map_size + 1) * 16 - 8, 16)\n",
    "ctr_y_all = np.arange(8, (feature_map_size + 1) * 16 - 8, 16)\n",
    "\n",
    "print(f'ctr_x_all:\\n{ctr_x_all}')\n",
    "\n",
    "ctr = np.zeros((feature_map_size, feature_map_size, 2), dtype = np.float32)\n",
    "\n",
    "for y in range(feature_map_size):\n",
    "    for x in range(feature_map_size):\n",
    "        ctr[y, x] = np.array([ctr_y_all[y], ctr_x_all[x]])\n",
    "        \n",
    "        \n",
    "print(f'ctr_all:\\n {ctr}')"
   ]
  },
  {
   "cell_type": "code",
   "execution_count": 8,
   "metadata": {},
   "outputs": [],
   "source": [
    "# anchors -> (H/16, W/16, 9, 4)   # stride가 16인가?\n",
    "anchors = np.zeros((feature_map_size, feature_map_size, 9, 4))\n",
    "\n",
    "for y in range(feature_map_size):\n",
    "    for x in range(feature_map_size):\n",
    "        anchors[y, x] = (ctr[y, x] + anchors_template.reshape(-1, 2, 2)).reshape(-1, 4)"
   ]
  },
  {
   "cell_type": "code",
   "execution_count": 16,
   "metadata": {},
   "outputs": [
    {
     "name": "stdout",
     "output_type": "stream",
     "text": [
      "(8940,)\n"
     ]
    }
   ],
   "source": [
    "anchors = anchors.reshape(-1, 4)\n",
    "index_inside = np.where((anchors[:, 0] >= 0) & \n",
    "                        (anchors[:, 1] >= 0) &\n",
    "                        (anchors[:, 2] <= 800) &\n",
    "                        (anchors[:, 3] <= 800))[0]\n",
    "print(index_inside.shape)"
   ]
  },
  {
   "cell_type": "code",
   "execution_count": null,
   "metadata": {},
   "outputs": [],
   "source": []
  },
  {
   "cell_type": "code",
   "execution_count": null,
   "metadata": {},
   "outputs": [],
   "source": []
  },
  {
   "cell_type": "code",
   "execution_count": null,
   "metadata": {},
   "outputs": [],
   "source": []
  },
  {
   "cell_type": "code",
   "execution_count": null,
   "metadata": {},
   "outputs": [],
   "source": []
  },
  {
   "cell_type": "code",
   "execution_count": null,
   "metadata": {},
   "outputs": [],
   "source": []
  }
 ],
 "metadata": {
  "kernelspec": {
   "display_name": "Python 3",
   "language": "python",
   "name": "python3"
  },
  "language_info": {
   "codemirror_mode": {
    "name": "ipython",
    "version": 3
   },
   "file_extension": ".py",
   "mimetype": "text/x-python",
   "name": "python",
   "nbconvert_exporter": "python",
   "pygments_lexer": "ipython3",
   "version": "3.8.5"
  }
 },
 "nbformat": 4,
 "nbformat_minor": 4
}
